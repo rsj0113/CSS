{
  "nbformat": 4,
  "nbformat_minor": 0,
  "metadata": {
    "colab": {
      "name": "2_3_Home Credit Default Risk_Modeling_Validation.ipynb",
      "provenance": [],
      "collapsed_sections": []
    },
    "kernelspec": {
      "display_name": "Python 3",
      "name": "python3"
    },
    "language_info": {
      "name": "python"
    }
  },
  "cells": [
    {
      "cell_type": "markdown",
      "metadata": {
        "id": "l1ygLHiG95Mo"
      },
      "source": [
        "# **2. 모델링 과정**"
      ]
    },
    {
      "cell_type": "markdown",
      "metadata": {
        "id": "CTPNPL0_VXh4"
      },
      "source": [
        "\n",
        "\n",
        "> **2.1. 모델링용 데이터 가져오기**\n",
        "\n",
        "\n"
      ]
    },
    {
      "cell_type": "code",
      "metadata": {
        "colab": {
          "base_uri": "https://localhost:8080/",
          "height": 288
        },
        "id": "TV5BFk5sWnOK",
        "outputId": "9d00cdf3-1d5f-46ea-8381-9200b5074558"
      },
      "source": [
        "# train \n",
        "import pandas as pd\n",
        "\n",
        "train = pd.read_csv('train_small.csv')\n",
        "print('Training data 구조: ', train.shape)\n",
        "train.head()"
      ],
      "execution_count": null,
      "outputs": [
        {
          "output_type": "stream",
          "text": [
            "Training data 구조:  (307511, 92)\n"
          ],
          "name": "stdout"
        },
        {
          "output_type": "execute_result",
          "data": {
            "text/html": [
              "<div>\n",
              "<style scoped>\n",
              "    .dataframe tbody tr th:only-of-type {\n",
              "        vertical-align: middle;\n",
              "    }\n",
              "\n",
              "    .dataframe tbody tr th {\n",
              "        vertical-align: top;\n",
              "    }\n",
              "\n",
              "    .dataframe thead th {\n",
              "        text-align: right;\n",
              "    }\n",
              "</style>\n",
              "<table border=\"1\" class=\"dataframe\">\n",
              "  <thead>\n",
              "    <tr style=\"text-align: right;\">\n",
              "      <th></th>\n",
              "      <th>EXT_SOURCE_3</th>\n",
              "      <th>EXT_SOURCE_2</th>\n",
              "      <th>DAYS_BIRTH</th>\n",
              "      <th>AMT_ANNUITY</th>\n",
              "      <th>AMT_CREDIT</th>\n",
              "      <th>AMT_GOODS_PRICE</th>\n",
              "      <th>DAYS_EMPLOYED</th>\n",
              "      <th>DAYS_CREDIT_ENDDATE_bureau_max</th>\n",
              "      <th>DAYS_CREDIT_bureau_max</th>\n",
              "      <th>DAYS_ID_PUBLISH</th>\n",
              "      <th>DAYS_REGISTRATION</th>\n",
              "      <th>DAYS_ENDDATE_FACT_bureau_max</th>\n",
              "      <th>AMT_CREDIT_SUM_bureau_min</th>\n",
              "      <th>DAYS_LAST_PHONE_CHANGE</th>\n",
              "      <th>REGION_POPULATION_RELATIVE</th>\n",
              "      <th>TOTALAREA_MODE</th>\n",
              "      <th>AMT_CREDIT_SUM_DEBT_bureau_mean</th>\n",
              "      <th>AMT_CREDIT_MAX_OVERDUE_bureau_mean</th>\n",
              "      <th>DAYS_CREDIT_ENDDATE_bureau_mean</th>\n",
              "      <th>AMT_INCOME_TOTAL</th>\n",
              "      <th>AMT_CREDIT_SUM_bureau_mean</th>\n",
              "      <th>DAYS_CREDIT_bureau_mean</th>\n",
              "      <th>AMT_CREDIT_SUM_bureau_max</th>\n",
              "      <th>DAYS_ENDDATE_FACT_bureau_mean</th>\n",
              "      <th>DAYS_CREDIT_bureau_min</th>\n",
              "      <th>DAYS_CREDIT_UPDATE_bureau_max</th>\n",
              "      <th>DAYS_ENDDATE_FACT_bureau_min</th>\n",
              "      <th>DAYS_CREDIT_ENDDATE_bureau_sum</th>\n",
              "      <th>CODE_GENDER_F</th>\n",
              "      <th>AMT_CREDIT_SUM_bureau_sum</th>\n",
              "      <th>DAYS_CREDIT_UPDATE_bureau_sum</th>\n",
              "      <th>AMT_REQ_CREDIT_BUREAU_YEAR</th>\n",
              "      <th>DAYS_CREDIT_UPDATE_bureau_min</th>\n",
              "      <th>NAME_EDUCATION_TYPE_Higher education</th>\n",
              "      <th>AMT_CREDIT_SUM_LIMIT_bureau_mean</th>\n",
              "      <th>HOUR_APPR_PROCESS_START</th>\n",
              "      <th>AMT_CREDIT_SUM_DEBT_bureau_max</th>\n",
              "      <th>DAYS_CREDIT_ENDDATE_bureau_min</th>\n",
              "      <th>AMT_CREDIT_MAX_OVERDUE_bureau_max</th>\n",
              "      <th>YEARS_BEGINEXPLUATATION_MEDI</th>\n",
              "      <th>...</th>\n",
              "      <th>CREDIT_TYPE_Credit card_bureau_mean</th>\n",
              "      <th>DEF_30_CNT_SOCIAL_CIRCLE</th>\n",
              "      <th>CREDIT_TYPE_Consumer credit_bureau_mean</th>\n",
              "      <th>AMT_ANNUITY_bureau_sum</th>\n",
              "      <th>REGION_RATING_CLIENT_W_CITY</th>\n",
              "      <th>AMT_CREDIT_SUM_DEBT_bureau_min</th>\n",
              "      <th>AMT_CREDIT_SUM_LIMIT_bureau_max</th>\n",
              "      <th>AMT_REQ_CREDIT_BUREAU_QRT</th>\n",
              "      <th>NAME_EDUCATION_TYPE_Secondary / secondary special</th>\n",
              "      <th>CREDIT_TYPE_Microloan_bureau_mean</th>\n",
              "      <th>CREDIT_TYPE_Mortgage_bureau_mean</th>\n",
              "      <th>FLOORSMAX_AVG</th>\n",
              "      <th>AMT_CREDIT_SUM_DEBT_bureau_count</th>\n",
              "      <th>FLAG_DOCUMENT_3</th>\n",
              "      <th>YEARS_BEGINEXPLUATATION_AVG</th>\n",
              "      <th>AMT_CREDIT_SUM_LIMIT_bureau_sum</th>\n",
              "      <th>OCCUPATION_TYPE_Core staff</th>\n",
              "      <th>CREDIT_ACTIVE_Active_bureau_mean</th>\n",
              "      <th>CREDIT_ACTIVE_Closed_bureau_mean</th>\n",
              "      <th>AMT_ANNUITY_bureau_count</th>\n",
              "      <th>AMT_REQ_CREDIT_BUREAU_MON</th>\n",
              "      <th>DEF_60_CNT_SOCIAL_CIRCLE</th>\n",
              "      <th>NAME_INCOME_TYPE_Working</th>\n",
              "      <th>CODE_GENDER_M</th>\n",
              "      <th>FLAG_WORK_PHONE</th>\n",
              "      <th>FLAG_DOCUMENT_16</th>\n",
              "      <th>CREDIT_TYPE_Consumer credit_bureau_sum</th>\n",
              "      <th>OBS_60_CNT_SOCIAL_CIRCLE</th>\n",
              "      <th>CREDIT_ACTIVE_Closed_bureau_sum</th>\n",
              "      <th>AMT_CREDIT_MAX_OVERDUE_bureau_min</th>\n",
              "      <th>FLAG_DOCUMENT_18</th>\n",
              "      <th>CREDIT_TYPE_Credit card_bureau_sum</th>\n",
              "      <th>AMT_CREDIT_SUM_OVERDUE_bureau_max</th>\n",
              "      <th>REG_CITY_NOT_LIVE_CITY</th>\n",
              "      <th>OCCUPATION_TYPE_Drivers</th>\n",
              "      <th>OCCUPATION_TYPE_Laborers</th>\n",
              "      <th>DAYS_CREDIT_ENDDATE_bureau_count</th>\n",
              "      <th>DAYS_ENDDATE_FACT_bureau_count</th>\n",
              "      <th>TARGET</th>\n",
              "      <th>SK_ID_CURR</th>\n",
              "    </tr>\n",
              "  </thead>\n",
              "  <tbody>\n",
              "    <tr>\n",
              "      <th>0</th>\n",
              "      <td>0.139376</td>\n",
              "      <td>0.262949</td>\n",
              "      <td>-9461</td>\n",
              "      <td>24700.5</td>\n",
              "      <td>406597.5</td>\n",
              "      <td>351000.0</td>\n",
              "      <td>-637</td>\n",
              "      <td>780.0</td>\n",
              "      <td>-103.0</td>\n",
              "      <td>-2120</td>\n",
              "      <td>-3648.0</td>\n",
              "      <td>-36.0</td>\n",
              "      <td>0.0</td>\n",
              "      <td>-1134.0</td>\n",
              "      <td>0.018801</td>\n",
              "      <td>0.0149</td>\n",
              "      <td>49156.2</td>\n",
              "      <td>1681.029</td>\n",
              "      <td>-349.0</td>\n",
              "      <td>202500.0</td>\n",
              "      <td>108131.945625</td>\n",
              "      <td>-874.00</td>\n",
              "      <td>450000.0</td>\n",
              "      <td>-697.500000</td>\n",
              "      <td>-1437.0</td>\n",
              "      <td>-7.0</td>\n",
              "      <td>-1185.0</td>\n",
              "      <td>-2094.0</td>\n",
              "      <td>0</td>\n",
              "      <td>865055.565</td>\n",
              "      <td>-3999.0</td>\n",
              "      <td>1.0</td>\n",
              "      <td>-1185.0</td>\n",
              "      <td>0</td>\n",
              "      <td>7997.14125</td>\n",
              "      <td>10</td>\n",
              "      <td>245781.0</td>\n",
              "      <td>-1072.0</td>\n",
              "      <td>5043.645</td>\n",
              "      <td>0.9722</td>\n",
              "      <td>...</td>\n",
              "      <td>0.5</td>\n",
              "      <td>2.0</td>\n",
              "      <td>0.5</td>\n",
              "      <td>0.0</td>\n",
              "      <td>2</td>\n",
              "      <td>0.0</td>\n",
              "      <td>31988.565</td>\n",
              "      <td>0.0</td>\n",
              "      <td>1</td>\n",
              "      <td>0.0</td>\n",
              "      <td>0.0</td>\n",
              "      <td>0.0833</td>\n",
              "      <td>5.0</td>\n",
              "      <td>1</td>\n",
              "      <td>0.9722</td>\n",
              "      <td>31988.565</td>\n",
              "      <td>0</td>\n",
              "      <td>0.25</td>\n",
              "      <td>0.75</td>\n",
              "      <td>7.0</td>\n",
              "      <td>0.0</td>\n",
              "      <td>2.0</td>\n",
              "      <td>1</td>\n",
              "      <td>1</td>\n",
              "      <td>0</td>\n",
              "      <td>0</td>\n",
              "      <td>4.0</td>\n",
              "      <td>2.0</td>\n",
              "      <td>6.0</td>\n",
              "      <td>0.0</td>\n",
              "      <td>0</td>\n",
              "      <td>4.0</td>\n",
              "      <td>0.0</td>\n",
              "      <td>0</td>\n",
              "      <td>0</td>\n",
              "      <td>1</td>\n",
              "      <td>6.0</td>\n",
              "      <td>6.0</td>\n",
              "      <td>1</td>\n",
              "      <td>100002</td>\n",
              "    </tr>\n",
              "    <tr>\n",
              "      <th>1</th>\n",
              "      <td>NaN</td>\n",
              "      <td>0.622246</td>\n",
              "      <td>-16765</td>\n",
              "      <td>35698.5</td>\n",
              "      <td>1293502.5</td>\n",
              "      <td>1129500.0</td>\n",
              "      <td>-1188</td>\n",
              "      <td>1216.0</td>\n",
              "      <td>-606.0</td>\n",
              "      <td>-291</td>\n",
              "      <td>-1186.0</td>\n",
              "      <td>-540.0</td>\n",
              "      <td>22248.0</td>\n",
              "      <td>-828.0</td>\n",
              "      <td>0.003541</td>\n",
              "      <td>0.0714</td>\n",
              "      <td>0.0</td>\n",
              "      <td>0.000</td>\n",
              "      <td>-544.5</td>\n",
              "      <td>270000.0</td>\n",
              "      <td>254350.125000</td>\n",
              "      <td>-1400.75</td>\n",
              "      <td>810000.0</td>\n",
              "      <td>-1097.333333</td>\n",
              "      <td>-2586.0</td>\n",
              "      <td>-43.0</td>\n",
              "      <td>-2131.0</td>\n",
              "      <td>-2178.0</td>\n",
              "      <td>1</td>\n",
              "      <td>1017400.500</td>\n",
              "      <td>-3264.0</td>\n",
              "      <td>0.0</td>\n",
              "      <td>-2131.0</td>\n",
              "      <td>1</td>\n",
              "      <td>202500.00000</td>\n",
              "      <td>11</td>\n",
              "      <td>0.0</td>\n",
              "      <td>-2434.0</td>\n",
              "      <td>0.000</td>\n",
              "      <td>0.9851</td>\n",
              "      <td>...</td>\n",
              "      <td>0.5</td>\n",
              "      <td>0.0</td>\n",
              "      <td>0.5</td>\n",
              "      <td>0.0</td>\n",
              "      <td>1</td>\n",
              "      <td>0.0</td>\n",
              "      <td>810000.000</td>\n",
              "      <td>0.0</td>\n",
              "      <td>0</td>\n",
              "      <td>0.0</td>\n",
              "      <td>0.0</td>\n",
              "      <td>0.2917</td>\n",
              "      <td>4.0</td>\n",
              "      <td>1</td>\n",
              "      <td>0.9851</td>\n",
              "      <td>810000.000</td>\n",
              "      <td>1</td>\n",
              "      <td>0.25</td>\n",
              "      <td>0.75</td>\n",
              "      <td>0.0</td>\n",
              "      <td>0.0</td>\n",
              "      <td>0.0</td>\n",
              "      <td>0</td>\n",
              "      <td>0</td>\n",
              "      <td>0</td>\n",
              "      <td>0</td>\n",
              "      <td>2.0</td>\n",
              "      <td>1.0</td>\n",
              "      <td>3.0</td>\n",
              "      <td>0.0</td>\n",
              "      <td>0</td>\n",
              "      <td>2.0</td>\n",
              "      <td>0.0</td>\n",
              "      <td>0</td>\n",
              "      <td>0</td>\n",
              "      <td>0</td>\n",
              "      <td>4.0</td>\n",
              "      <td>3.0</td>\n",
              "      <td>0</td>\n",
              "      <td>100003</td>\n",
              "    </tr>\n",
              "    <tr>\n",
              "      <th>2</th>\n",
              "      <td>0.729567</td>\n",
              "      <td>0.555912</td>\n",
              "      <td>-19046</td>\n",
              "      <td>6750.0</td>\n",
              "      <td>135000.0</td>\n",
              "      <td>135000.0</td>\n",
              "      <td>-225</td>\n",
              "      <td>-382.0</td>\n",
              "      <td>-408.0</td>\n",
              "      <td>-2531</td>\n",
              "      <td>-4260.0</td>\n",
              "      <td>-382.0</td>\n",
              "      <td>94500.0</td>\n",
              "      <td>-815.0</td>\n",
              "      <td>0.010032</td>\n",
              "      <td>NaN</td>\n",
              "      <td>0.0</td>\n",
              "      <td>0.000</td>\n",
              "      <td>-488.5</td>\n",
              "      <td>67500.0</td>\n",
              "      <td>94518.900000</td>\n",
              "      <td>-867.00</td>\n",
              "      <td>94537.8</td>\n",
              "      <td>-532.500000</td>\n",
              "      <td>-1326.0</td>\n",
              "      <td>-382.0</td>\n",
              "      <td>-683.0</td>\n",
              "      <td>-977.0</td>\n",
              "      <td>0</td>\n",
              "      <td>189037.800</td>\n",
              "      <td>-1064.0</td>\n",
              "      <td>0.0</td>\n",
              "      <td>-682.0</td>\n",
              "      <td>0</td>\n",
              "      <td>0.00000</td>\n",
              "      <td>9</td>\n",
              "      <td>0.0</td>\n",
              "      <td>-595.0</td>\n",
              "      <td>0.000</td>\n",
              "      <td>NaN</td>\n",
              "      <td>...</td>\n",
              "      <td>0.0</td>\n",
              "      <td>0.0</td>\n",
              "      <td>1.0</td>\n",
              "      <td>0.0</td>\n",
              "      <td>2</td>\n",
              "      <td>0.0</td>\n",
              "      <td>0.000</td>\n",
              "      <td>0.0</td>\n",
              "      <td>1</td>\n",
              "      <td>0.0</td>\n",
              "      <td>0.0</td>\n",
              "      <td>NaN</td>\n",
              "      <td>2.0</td>\n",
              "      <td>0</td>\n",
              "      <td>NaN</td>\n",
              "      <td>0.000</td>\n",
              "      <td>0</td>\n",
              "      <td>0.00</td>\n",
              "      <td>1.00</td>\n",
              "      <td>0.0</td>\n",
              "      <td>0.0</td>\n",
              "      <td>0.0</td>\n",
              "      <td>1</td>\n",
              "      <td>1</td>\n",
              "      <td>1</td>\n",
              "      <td>0</td>\n",
              "      <td>2.0</td>\n",
              "      <td>0.0</td>\n",
              "      <td>2.0</td>\n",
              "      <td>0.0</td>\n",
              "      <td>0</td>\n",
              "      <td>0.0</td>\n",
              "      <td>0.0</td>\n",
              "      <td>0</td>\n",
              "      <td>0</td>\n",
              "      <td>1</td>\n",
              "      <td>2.0</td>\n",
              "      <td>2.0</td>\n",
              "      <td>0</td>\n",
              "      <td>100004</td>\n",
              "    </tr>\n",
              "    <tr>\n",
              "      <th>3</th>\n",
              "      <td>NaN</td>\n",
              "      <td>0.650442</td>\n",
              "      <td>-19005</td>\n",
              "      <td>29686.5</td>\n",
              "      <td>312682.5</td>\n",
              "      <td>297000.0</td>\n",
              "      <td>-3039</td>\n",
              "      <td>NaN</td>\n",
              "      <td>NaN</td>\n",
              "      <td>-2437</td>\n",
              "      <td>-9833.0</td>\n",
              "      <td>NaN</td>\n",
              "      <td>NaN</td>\n",
              "      <td>-617.0</td>\n",
              "      <td>0.008019</td>\n",
              "      <td>NaN</td>\n",
              "      <td>NaN</td>\n",
              "      <td>NaN</td>\n",
              "      <td>NaN</td>\n",
              "      <td>135000.0</td>\n",
              "      <td>NaN</td>\n",
              "      <td>NaN</td>\n",
              "      <td>NaN</td>\n",
              "      <td>NaN</td>\n",
              "      <td>NaN</td>\n",
              "      <td>NaN</td>\n",
              "      <td>NaN</td>\n",
              "      <td>NaN</td>\n",
              "      <td>1</td>\n",
              "      <td>NaN</td>\n",
              "      <td>NaN</td>\n",
              "      <td>NaN</td>\n",
              "      <td>NaN</td>\n",
              "      <td>0</td>\n",
              "      <td>NaN</td>\n",
              "      <td>17</td>\n",
              "      <td>NaN</td>\n",
              "      <td>NaN</td>\n",
              "      <td>NaN</td>\n",
              "      <td>NaN</td>\n",
              "      <td>...</td>\n",
              "      <td>NaN</td>\n",
              "      <td>0.0</td>\n",
              "      <td>NaN</td>\n",
              "      <td>NaN</td>\n",
              "      <td>2</td>\n",
              "      <td>NaN</td>\n",
              "      <td>NaN</td>\n",
              "      <td>NaN</td>\n",
              "      <td>1</td>\n",
              "      <td>NaN</td>\n",
              "      <td>NaN</td>\n",
              "      <td>NaN</td>\n",
              "      <td>NaN</td>\n",
              "      <td>1</td>\n",
              "      <td>NaN</td>\n",
              "      <td>NaN</td>\n",
              "      <td>0</td>\n",
              "      <td>NaN</td>\n",
              "      <td>NaN</td>\n",
              "      <td>NaN</td>\n",
              "      <td>NaN</td>\n",
              "      <td>0.0</td>\n",
              "      <td>1</td>\n",
              "      <td>0</td>\n",
              "      <td>0</td>\n",
              "      <td>0</td>\n",
              "      <td>NaN</td>\n",
              "      <td>2.0</td>\n",
              "      <td>NaN</td>\n",
              "      <td>NaN</td>\n",
              "      <td>0</td>\n",
              "      <td>NaN</td>\n",
              "      <td>NaN</td>\n",
              "      <td>0</td>\n",
              "      <td>0</td>\n",
              "      <td>1</td>\n",
              "      <td>NaN</td>\n",
              "      <td>NaN</td>\n",
              "      <td>0</td>\n",
              "      <td>100006</td>\n",
              "    </tr>\n",
              "    <tr>\n",
              "      <th>4</th>\n",
              "      <td>NaN</td>\n",
              "      <td>0.322738</td>\n",
              "      <td>-19932</td>\n",
              "      <td>21865.5</td>\n",
              "      <td>513000.0</td>\n",
              "      <td>513000.0</td>\n",
              "      <td>-3038</td>\n",
              "      <td>-783.0</td>\n",
              "      <td>-1149.0</td>\n",
              "      <td>-3458</td>\n",
              "      <td>-4311.0</td>\n",
              "      <td>-783.0</td>\n",
              "      <td>146250.0</td>\n",
              "      <td>-1106.0</td>\n",
              "      <td>0.028663</td>\n",
              "      <td>NaN</td>\n",
              "      <td>0.0</td>\n",
              "      <td>0.000</td>\n",
              "      <td>-783.0</td>\n",
              "      <td>121500.0</td>\n",
              "      <td>146250.000000</td>\n",
              "      <td>-1149.00</td>\n",
              "      <td>146250.0</td>\n",
              "      <td>-783.000000</td>\n",
              "      <td>-1149.0</td>\n",
              "      <td>-783.0</td>\n",
              "      <td>-783.0</td>\n",
              "      <td>-783.0</td>\n",
              "      <td>0</td>\n",
              "      <td>146250.000</td>\n",
              "      <td>-783.0</td>\n",
              "      <td>0.0</td>\n",
              "      <td>-783.0</td>\n",
              "      <td>0</td>\n",
              "      <td>0.00000</td>\n",
              "      <td>11</td>\n",
              "      <td>0.0</td>\n",
              "      <td>-783.0</td>\n",
              "      <td>0.000</td>\n",
              "      <td>NaN</td>\n",
              "      <td>...</td>\n",
              "      <td>0.0</td>\n",
              "      <td>0.0</td>\n",
              "      <td>1.0</td>\n",
              "      <td>0.0</td>\n",
              "      <td>2</td>\n",
              "      <td>0.0</td>\n",
              "      <td>0.000</td>\n",
              "      <td>0.0</td>\n",
              "      <td>1</td>\n",
              "      <td>0.0</td>\n",
              "      <td>0.0</td>\n",
              "      <td>NaN</td>\n",
              "      <td>1.0</td>\n",
              "      <td>0</td>\n",
              "      <td>NaN</td>\n",
              "      <td>0.000</td>\n",
              "      <td>1</td>\n",
              "      <td>0.00</td>\n",
              "      <td>1.00</td>\n",
              "      <td>0.0</td>\n",
              "      <td>0.0</td>\n",
              "      <td>0.0</td>\n",
              "      <td>1</td>\n",
              "      <td>1</td>\n",
              "      <td>0</td>\n",
              "      <td>0</td>\n",
              "      <td>1.0</td>\n",
              "      <td>0.0</td>\n",
              "      <td>1.0</td>\n",
              "      <td>0.0</td>\n",
              "      <td>0</td>\n",
              "      <td>0.0</td>\n",
              "      <td>0.0</td>\n",
              "      <td>0</td>\n",
              "      <td>0</td>\n",
              "      <td>0</td>\n",
              "      <td>1.0</td>\n",
              "      <td>1.0</td>\n",
              "      <td>0</td>\n",
              "      <td>100007</td>\n",
              "    </tr>\n",
              "  </tbody>\n",
              "</table>\n",
              "<p>5 rows × 92 columns</p>\n",
              "</div>"
            ],
            "text/plain": [
              "   EXT_SOURCE_3  EXT_SOURCE_2  ...  TARGET  SK_ID_CURR\n",
              "0      0.139376      0.262949  ...       1      100002\n",
              "1           NaN      0.622246  ...       0      100003\n",
              "2      0.729567      0.555912  ...       0      100004\n",
              "3           NaN      0.650442  ...       0      100006\n",
              "4           NaN      0.322738  ...       0      100007\n",
              "\n",
              "[5 rows x 92 columns]"
            ]
          },
          "metadata": {
            "tags": []
          },
          "execution_count": 3
        }
      ]
    },
    {
      "cell_type": "code",
      "metadata": {
        "colab": {
          "base_uri": "https://localhost:8080/",
          "height": 288
        },
        "id": "yQ2cYkh9XFhT",
        "outputId": "cea5f218-e769-4cd7-c506-ad5d91e0f795"
      },
      "source": [
        "test = pd.read_csv('test_small.csv')\n",
        "print('Testing data 구조: ', test.shape)\n",
        "test.head()"
      ],
      "execution_count": null,
      "outputs": [
        {
          "output_type": "stream",
          "text": [
            "Testing data 구조:  (48744, 91)\n"
          ],
          "name": "stdout"
        },
        {
          "output_type": "execute_result",
          "data": {
            "text/html": [
              "<div>\n",
              "<style scoped>\n",
              "    .dataframe tbody tr th:only-of-type {\n",
              "        vertical-align: middle;\n",
              "    }\n",
              "\n",
              "    .dataframe tbody tr th {\n",
              "        vertical-align: top;\n",
              "    }\n",
              "\n",
              "    .dataframe thead th {\n",
              "        text-align: right;\n",
              "    }\n",
              "</style>\n",
              "<table border=\"1\" class=\"dataframe\">\n",
              "  <thead>\n",
              "    <tr style=\"text-align: right;\">\n",
              "      <th></th>\n",
              "      <th>EXT_SOURCE_3</th>\n",
              "      <th>EXT_SOURCE_2</th>\n",
              "      <th>DAYS_BIRTH</th>\n",
              "      <th>AMT_ANNUITY</th>\n",
              "      <th>AMT_CREDIT</th>\n",
              "      <th>AMT_GOODS_PRICE</th>\n",
              "      <th>DAYS_EMPLOYED</th>\n",
              "      <th>DAYS_CREDIT_ENDDATE_bureau_max</th>\n",
              "      <th>DAYS_CREDIT_bureau_max</th>\n",
              "      <th>DAYS_ID_PUBLISH</th>\n",
              "      <th>DAYS_REGISTRATION</th>\n",
              "      <th>DAYS_ENDDATE_FACT_bureau_max</th>\n",
              "      <th>AMT_CREDIT_SUM_bureau_min</th>\n",
              "      <th>DAYS_LAST_PHONE_CHANGE</th>\n",
              "      <th>REGION_POPULATION_RELATIVE</th>\n",
              "      <th>TOTALAREA_MODE</th>\n",
              "      <th>AMT_CREDIT_SUM_DEBT_bureau_mean</th>\n",
              "      <th>AMT_CREDIT_MAX_OVERDUE_bureau_mean</th>\n",
              "      <th>DAYS_CREDIT_ENDDATE_bureau_mean</th>\n",
              "      <th>AMT_INCOME_TOTAL</th>\n",
              "      <th>AMT_CREDIT_SUM_bureau_mean</th>\n",
              "      <th>DAYS_CREDIT_bureau_mean</th>\n",
              "      <th>AMT_CREDIT_SUM_bureau_max</th>\n",
              "      <th>DAYS_ENDDATE_FACT_bureau_mean</th>\n",
              "      <th>DAYS_CREDIT_bureau_min</th>\n",
              "      <th>DAYS_CREDIT_UPDATE_bureau_max</th>\n",
              "      <th>DAYS_ENDDATE_FACT_bureau_min</th>\n",
              "      <th>DAYS_CREDIT_ENDDATE_bureau_sum</th>\n",
              "      <th>CODE_GENDER_F</th>\n",
              "      <th>AMT_CREDIT_SUM_bureau_sum</th>\n",
              "      <th>DAYS_CREDIT_UPDATE_bureau_sum</th>\n",
              "      <th>AMT_REQ_CREDIT_BUREAU_YEAR</th>\n",
              "      <th>DAYS_CREDIT_UPDATE_bureau_min</th>\n",
              "      <th>NAME_EDUCATION_TYPE_Higher education</th>\n",
              "      <th>AMT_CREDIT_SUM_LIMIT_bureau_mean</th>\n",
              "      <th>HOUR_APPR_PROCESS_START</th>\n",
              "      <th>AMT_CREDIT_SUM_DEBT_bureau_max</th>\n",
              "      <th>DAYS_CREDIT_ENDDATE_bureau_min</th>\n",
              "      <th>AMT_CREDIT_MAX_OVERDUE_bureau_max</th>\n",
              "      <th>YEARS_BEGINEXPLUATATION_MEDI</th>\n",
              "      <th>...</th>\n",
              "      <th>NAME_FAMILY_STATUS_Married</th>\n",
              "      <th>CREDIT_TYPE_Credit card_bureau_mean</th>\n",
              "      <th>DEF_30_CNT_SOCIAL_CIRCLE</th>\n",
              "      <th>CREDIT_TYPE_Consumer credit_bureau_mean</th>\n",
              "      <th>AMT_ANNUITY_bureau_sum</th>\n",
              "      <th>REGION_RATING_CLIENT_W_CITY</th>\n",
              "      <th>AMT_CREDIT_SUM_DEBT_bureau_min</th>\n",
              "      <th>AMT_CREDIT_SUM_LIMIT_bureau_max</th>\n",
              "      <th>AMT_REQ_CREDIT_BUREAU_QRT</th>\n",
              "      <th>NAME_EDUCATION_TYPE_Secondary / secondary special</th>\n",
              "      <th>CREDIT_TYPE_Microloan_bureau_mean</th>\n",
              "      <th>CREDIT_TYPE_Mortgage_bureau_mean</th>\n",
              "      <th>FLOORSMAX_AVG</th>\n",
              "      <th>AMT_CREDIT_SUM_DEBT_bureau_count</th>\n",
              "      <th>FLAG_DOCUMENT_3</th>\n",
              "      <th>YEARS_BEGINEXPLUATATION_AVG</th>\n",
              "      <th>AMT_CREDIT_SUM_LIMIT_bureau_sum</th>\n",
              "      <th>OCCUPATION_TYPE_Core staff</th>\n",
              "      <th>CREDIT_ACTIVE_Active_bureau_mean</th>\n",
              "      <th>CREDIT_ACTIVE_Closed_bureau_mean</th>\n",
              "      <th>AMT_ANNUITY_bureau_count</th>\n",
              "      <th>AMT_REQ_CREDIT_BUREAU_MON</th>\n",
              "      <th>DEF_60_CNT_SOCIAL_CIRCLE</th>\n",
              "      <th>NAME_INCOME_TYPE_Working</th>\n",
              "      <th>CODE_GENDER_M</th>\n",
              "      <th>FLAG_WORK_PHONE</th>\n",
              "      <th>FLAG_DOCUMENT_16</th>\n",
              "      <th>CREDIT_TYPE_Consumer credit_bureau_sum</th>\n",
              "      <th>OBS_60_CNT_SOCIAL_CIRCLE</th>\n",
              "      <th>CREDIT_ACTIVE_Closed_bureau_sum</th>\n",
              "      <th>AMT_CREDIT_MAX_OVERDUE_bureau_min</th>\n",
              "      <th>FLAG_DOCUMENT_18</th>\n",
              "      <th>CREDIT_TYPE_Credit card_bureau_sum</th>\n",
              "      <th>AMT_CREDIT_SUM_OVERDUE_bureau_max</th>\n",
              "      <th>REG_CITY_NOT_LIVE_CITY</th>\n",
              "      <th>OCCUPATION_TYPE_Drivers</th>\n",
              "      <th>OCCUPATION_TYPE_Laborers</th>\n",
              "      <th>DAYS_CREDIT_ENDDATE_bureau_count</th>\n",
              "      <th>DAYS_ENDDATE_FACT_bureau_count</th>\n",
              "      <th>SK_ID_CURR</th>\n",
              "    </tr>\n",
              "  </thead>\n",
              "  <tbody>\n",
              "    <tr>\n",
              "      <th>0</th>\n",
              "      <td>0.159520</td>\n",
              "      <td>0.789654</td>\n",
              "      <td>-19241</td>\n",
              "      <td>20560.5</td>\n",
              "      <td>568800.0</td>\n",
              "      <td>450000.0</td>\n",
              "      <td>-2329</td>\n",
              "      <td>1778.0</td>\n",
              "      <td>-49.0</td>\n",
              "      <td>-812</td>\n",
              "      <td>-5170.0</td>\n",
              "      <td>-544.0</td>\n",
              "      <td>85500.00</td>\n",
              "      <td>-1740.0</td>\n",
              "      <td>0.018850</td>\n",
              "      <td>0.0392</td>\n",
              "      <td>85240.928571</td>\n",
              "      <td>NaN</td>\n",
              "      <td>82.428571</td>\n",
              "      <td>135000.0</td>\n",
              "      <td>207623.571429</td>\n",
              "      <td>-735.000000</td>\n",
              "      <td>378000.0</td>\n",
              "      <td>-825.500000</td>\n",
              "      <td>-1572.0</td>\n",
              "      <td>-6.0</td>\n",
              "      <td>-1328.0</td>\n",
              "      <td>577.0</td>\n",
              "      <td>1</td>\n",
              "      <td>1453365.00</td>\n",
              "      <td>-652.0</td>\n",
              "      <td>0.0</td>\n",
              "      <td>-155.0</td>\n",
              "      <td>1</td>\n",
              "      <td>0.000000</td>\n",
              "      <td>18</td>\n",
              "      <td>373239.0</td>\n",
              "      <td>-1329.0</td>\n",
              "      <td>NaN</td>\n",
              "      <td>0.9732</td>\n",
              "      <td>...</td>\n",
              "      <td>1</td>\n",
              "      <td>0.000000</td>\n",
              "      <td>0.0</td>\n",
              "      <td>1.000000</td>\n",
              "      <td>24817.500</td>\n",
              "      <td>2</td>\n",
              "      <td>0.0</td>\n",
              "      <td>0.00</td>\n",
              "      <td>0.0</td>\n",
              "      <td>0</td>\n",
              "      <td>0.0</td>\n",
              "      <td>0.0</td>\n",
              "      <td>0.125</td>\n",
              "      <td>7.0</td>\n",
              "      <td>1</td>\n",
              "      <td>0.9732</td>\n",
              "      <td>0.00</td>\n",
              "      <td>0</td>\n",
              "      <td>0.428571</td>\n",
              "      <td>0.571429</td>\n",
              "      <td>7.0</td>\n",
              "      <td>0.0</td>\n",
              "      <td>0.0</td>\n",
              "      <td>1</td>\n",
              "      <td>0</td>\n",
              "      <td>0</td>\n",
              "      <td>0</td>\n",
              "      <td>7.0</td>\n",
              "      <td>0.0</td>\n",
              "      <td>4.0</td>\n",
              "      <td>NaN</td>\n",
              "      <td>0</td>\n",
              "      <td>0.0</td>\n",
              "      <td>0.0</td>\n",
              "      <td>0</td>\n",
              "      <td>0</td>\n",
              "      <td>0</td>\n",
              "      <td>7.0</td>\n",
              "      <td>4.0</td>\n",
              "      <td>100001</td>\n",
              "    </tr>\n",
              "    <tr>\n",
              "      <th>1</th>\n",
              "      <td>0.432962</td>\n",
              "      <td>0.291656</td>\n",
              "      <td>-18064</td>\n",
              "      <td>17370.0</td>\n",
              "      <td>222768.0</td>\n",
              "      <td>180000.0</td>\n",
              "      <td>-4469</td>\n",
              "      <td>1324.0</td>\n",
              "      <td>-62.0</td>\n",
              "      <td>-1623</td>\n",
              "      <td>-9118.0</td>\n",
              "      <td>-123.0</td>\n",
              "      <td>29826.00</td>\n",
              "      <td>0.0</td>\n",
              "      <td>0.035792</td>\n",
              "      <td>NaN</td>\n",
              "      <td>189469.500000</td>\n",
              "      <td>0.0</td>\n",
              "      <td>439.333333</td>\n",
              "      <td>99000.0</td>\n",
              "      <td>219042.000000</td>\n",
              "      <td>-190.666667</td>\n",
              "      <td>568800.0</td>\n",
              "      <td>-123.000000</td>\n",
              "      <td>-373.0</td>\n",
              "      <td>-11.0</td>\n",
              "      <td>-123.0</td>\n",
              "      <td>1318.0</td>\n",
              "      <td>0</td>\n",
              "      <td>657126.00</td>\n",
              "      <td>-163.0</td>\n",
              "      <td>3.0</td>\n",
              "      <td>-121.0</td>\n",
              "      <td>0</td>\n",
              "      <td>0.000000</td>\n",
              "      <td>9</td>\n",
              "      <td>543087.0</td>\n",
              "      <td>-128.0</td>\n",
              "      <td>0.0</td>\n",
              "      <td>NaN</td>\n",
              "      <td>...</td>\n",
              "      <td>1</td>\n",
              "      <td>0.333333</td>\n",
              "      <td>0.0</td>\n",
              "      <td>0.666667</td>\n",
              "      <td>4261.500</td>\n",
              "      <td>2</td>\n",
              "      <td>0.0</td>\n",
              "      <td>0.00</td>\n",
              "      <td>0.0</td>\n",
              "      <td>1</td>\n",
              "      <td>0.0</td>\n",
              "      <td>0.0</td>\n",
              "      <td>NaN</td>\n",
              "      <td>3.0</td>\n",
              "      <td>1</td>\n",
              "      <td>NaN</td>\n",
              "      <td>0.00</td>\n",
              "      <td>0</td>\n",
              "      <td>0.666667</td>\n",
              "      <td>0.333333</td>\n",
              "      <td>3.0</td>\n",
              "      <td>0.0</td>\n",
              "      <td>0.0</td>\n",
              "      <td>1</td>\n",
              "      <td>1</td>\n",
              "      <td>0</td>\n",
              "      <td>0</td>\n",
              "      <td>2.0</td>\n",
              "      <td>0.0</td>\n",
              "      <td>1.0</td>\n",
              "      <td>0.0</td>\n",
              "      <td>0</td>\n",
              "      <td>1.0</td>\n",
              "      <td>0.0</td>\n",
              "      <td>0</td>\n",
              "      <td>0</td>\n",
              "      <td>0</td>\n",
              "      <td>3.0</td>\n",
              "      <td>1.0</td>\n",
              "      <td>100005</td>\n",
              "    </tr>\n",
              "    <tr>\n",
              "      <th>2</th>\n",
              "      <td>0.610991</td>\n",
              "      <td>0.699787</td>\n",
              "      <td>-20038</td>\n",
              "      <td>69777.0</td>\n",
              "      <td>663264.0</td>\n",
              "      <td>630000.0</td>\n",
              "      <td>-4458</td>\n",
              "      <td>-567.0</td>\n",
              "      <td>-1210.0</td>\n",
              "      <td>-3503</td>\n",
              "      <td>-2175.0</td>\n",
              "      <td>-549.0</td>\n",
              "      <td>26490.06</td>\n",
              "      <td>-856.0</td>\n",
              "      <td>0.019101</td>\n",
              "      <td>NaN</td>\n",
              "      <td>0.000000</td>\n",
              "      <td>19305.0</td>\n",
              "      <td>-1068.000000</td>\n",
              "      <td>202500.0</td>\n",
              "      <td>518070.015000</td>\n",
              "      <td>-1737.500000</td>\n",
              "      <td>1262250.0</td>\n",
              "      <td>-1054.750000</td>\n",
              "      <td>-2070.0</td>\n",
              "      <td>-4.0</td>\n",
              "      <td>-1334.0</td>\n",
              "      <td>-4272.0</td>\n",
              "      <td>0</td>\n",
              "      <td>2072280.06</td>\n",
              "      <td>-3102.0</td>\n",
              "      <td>4.0</td>\n",
              "      <td>-1334.0</td>\n",
              "      <td>1</td>\n",
              "      <td>NaN</td>\n",
              "      <td>14</td>\n",
              "      <td>0.0</td>\n",
              "      <td>-1707.0</td>\n",
              "      <td>19305.0</td>\n",
              "      <td>NaN</td>\n",
              "      <td>...</td>\n",
              "      <td>1</td>\n",
              "      <td>0.000000</td>\n",
              "      <td>0.0</td>\n",
              "      <td>0.500000</td>\n",
              "      <td>0.000</td>\n",
              "      <td>2</td>\n",
              "      <td>0.0</td>\n",
              "      <td>NaN</td>\n",
              "      <td>1.0</td>\n",
              "      <td>0</td>\n",
              "      <td>0.0</td>\n",
              "      <td>0.0</td>\n",
              "      <td>NaN</td>\n",
              "      <td>1.0</td>\n",
              "      <td>0</td>\n",
              "      <td>NaN</td>\n",
              "      <td>0.00</td>\n",
              "      <td>0</td>\n",
              "      <td>0.000000</td>\n",
              "      <td>1.000000</td>\n",
              "      <td>2.0</td>\n",
              "      <td>0.0</td>\n",
              "      <td>0.0</td>\n",
              "      <td>1</td>\n",
              "      <td>1</td>\n",
              "      <td>0</td>\n",
              "      <td>0</td>\n",
              "      <td>2.0</td>\n",
              "      <td>0.0</td>\n",
              "      <td>4.0</td>\n",
              "      <td>19305.0</td>\n",
              "      <td>0</td>\n",
              "      <td>0.0</td>\n",
              "      <td>0.0</td>\n",
              "      <td>0</td>\n",
              "      <td>1</td>\n",
              "      <td>0</td>\n",
              "      <td>4.0</td>\n",
              "      <td>4.0</td>\n",
              "      <td>100013</td>\n",
              "    </tr>\n",
              "    <tr>\n",
              "      <th>3</th>\n",
              "      <td>0.612704</td>\n",
              "      <td>0.509677</td>\n",
              "      <td>-13976</td>\n",
              "      <td>49018.5</td>\n",
              "      <td>1575000.0</td>\n",
              "      <td>1575000.0</td>\n",
              "      <td>-1866</td>\n",
              "      <td>30885.0</td>\n",
              "      <td>-269.0</td>\n",
              "      <td>-4208</td>\n",
              "      <td>-2000.0</td>\n",
              "      <td>-687.0</td>\n",
              "      <td>0.00</td>\n",
              "      <td>-1805.0</td>\n",
              "      <td>0.026392</td>\n",
              "      <td>0.3700</td>\n",
              "      <td>18630.450000</td>\n",
              "      <td>0.0</td>\n",
              "      <td>2387.700000</td>\n",
              "      <td>315000.0</td>\n",
              "      <td>126739.590000</td>\n",
              "      <td>-1401.750000</td>\n",
              "      <td>393750.0</td>\n",
              "      <td>-1238.285714</td>\n",
              "      <td>-2105.0</td>\n",
              "      <td>-20.0</td>\n",
              "      <td>-1862.0</td>\n",
              "      <td>23877.0</td>\n",
              "      <td>1</td>\n",
              "      <td>1520875.08</td>\n",
              "      <td>-7818.0</td>\n",
              "      <td>3.0</td>\n",
              "      <td>-1564.0</td>\n",
              "      <td>0</td>\n",
              "      <td>14484.394286</td>\n",
              "      <td>11</td>\n",
              "      <td>151015.5</td>\n",
              "      <td>-1862.0</td>\n",
              "      <td>0.0</td>\n",
              "      <td>0.9970</td>\n",
              "      <td>...</td>\n",
              "      <td>1</td>\n",
              "      <td>0.416667</td>\n",
              "      <td>0.0</td>\n",
              "      <td>0.583333</td>\n",
              "      <td>21084.075</td>\n",
              "      <td>2</td>\n",
              "      <td>0.0</td>\n",
              "      <td>101390.76</td>\n",
              "      <td>0.0</td>\n",
              "      <td>1</td>\n",
              "      <td>0.0</td>\n",
              "      <td>0.0</td>\n",
              "      <td>0.375</td>\n",
              "      <td>10.0</td>\n",
              "      <td>1</td>\n",
              "      <td>0.9970</td>\n",
              "      <td>101390.76</td>\n",
              "      <td>0</td>\n",
              "      <td>0.416667</td>\n",
              "      <td>0.583333</td>\n",
              "      <td>7.0</td>\n",
              "      <td>0.0</td>\n",
              "      <td>0.0</td>\n",
              "      <td>1</td>\n",
              "      <td>0</td>\n",
              "      <td>0</td>\n",
              "      <td>0</td>\n",
              "      <td>7.0</td>\n",
              "      <td>0.0</td>\n",
              "      <td>7.0</td>\n",
              "      <td>0.0</td>\n",
              "      <td>0</td>\n",
              "      <td>5.0</td>\n",
              "      <td>0.0</td>\n",
              "      <td>0</td>\n",
              "      <td>0</td>\n",
              "      <td>0</td>\n",
              "      <td>10.0</td>\n",
              "      <td>7.0</td>\n",
              "      <td>100028</td>\n",
              "    </tr>\n",
              "    <tr>\n",
              "      <th>4</th>\n",
              "      <td>NaN</td>\n",
              "      <td>0.425687</td>\n",
              "      <td>-13040</td>\n",
              "      <td>32067.0</td>\n",
              "      <td>625500.0</td>\n",
              "      <td>625500.0</td>\n",
              "      <td>-2191</td>\n",
              "      <td>NaN</td>\n",
              "      <td>NaN</td>\n",
              "      <td>-4262</td>\n",
              "      <td>-4000.0</td>\n",
              "      <td>NaN</td>\n",
              "      <td>NaN</td>\n",
              "      <td>-821.0</td>\n",
              "      <td>0.010032</td>\n",
              "      <td>NaN</td>\n",
              "      <td>NaN</td>\n",
              "      <td>NaN</td>\n",
              "      <td>NaN</td>\n",
              "      <td>180000.0</td>\n",
              "      <td>NaN</td>\n",
              "      <td>NaN</td>\n",
              "      <td>NaN</td>\n",
              "      <td>NaN</td>\n",
              "      <td>NaN</td>\n",
              "      <td>NaN</td>\n",
              "      <td>NaN</td>\n",
              "      <td>NaN</td>\n",
              "      <td>0</td>\n",
              "      <td>NaN</td>\n",
              "      <td>NaN</td>\n",
              "      <td>NaN</td>\n",
              "      <td>NaN</td>\n",
              "      <td>0</td>\n",
              "      <td>NaN</td>\n",
              "      <td>5</td>\n",
              "      <td>NaN</td>\n",
              "      <td>NaN</td>\n",
              "      <td>NaN</td>\n",
              "      <td>NaN</td>\n",
              "      <td>...</td>\n",
              "      <td>1</td>\n",
              "      <td>NaN</td>\n",
              "      <td>0.0</td>\n",
              "      <td>NaN</td>\n",
              "      <td>NaN</td>\n",
              "      <td>2</td>\n",
              "      <td>NaN</td>\n",
              "      <td>NaN</td>\n",
              "      <td>NaN</td>\n",
              "      <td>1</td>\n",
              "      <td>NaN</td>\n",
              "      <td>NaN</td>\n",
              "      <td>NaN</td>\n",
              "      <td>NaN</td>\n",
              "      <td>1</td>\n",
              "      <td>NaN</td>\n",
              "      <td>NaN</td>\n",
              "      <td>0</td>\n",
              "      <td>NaN</td>\n",
              "      <td>NaN</td>\n",
              "      <td>NaN</td>\n",
              "      <td>NaN</td>\n",
              "      <td>0.0</td>\n",
              "      <td>1</td>\n",
              "      <td>1</td>\n",
              "      <td>1</td>\n",
              "      <td>0</td>\n",
              "      <td>NaN</td>\n",
              "      <td>0.0</td>\n",
              "      <td>NaN</td>\n",
              "      <td>NaN</td>\n",
              "      <td>0</td>\n",
              "      <td>NaN</td>\n",
              "      <td>NaN</td>\n",
              "      <td>0</td>\n",
              "      <td>0</td>\n",
              "      <td>0</td>\n",
              "      <td>NaN</td>\n",
              "      <td>NaN</td>\n",
              "      <td>100038</td>\n",
              "    </tr>\n",
              "  </tbody>\n",
              "</table>\n",
              "<p>5 rows × 91 columns</p>\n",
              "</div>"
            ],
            "text/plain": [
              "   EXT_SOURCE_3  EXT_SOURCE_2  ...  DAYS_ENDDATE_FACT_bureau_count  SK_ID_CURR\n",
              "0      0.159520      0.789654  ...                             4.0      100001\n",
              "1      0.432962      0.291656  ...                             1.0      100005\n",
              "2      0.610991      0.699787  ...                             4.0      100013\n",
              "3      0.612704      0.509677  ...                             7.0      100028\n",
              "4           NaN      0.425687  ...                             NaN      100038\n",
              "\n",
              "[5 rows x 91 columns]"
            ]
          },
          "metadata": {
            "tags": []
          },
          "execution_count": 4
        }
      ]
    },
    {
      "cell_type": "code",
      "metadata": {
        "id": "eFz0LdK_MRXA"
      },
      "source": [
        "# 학습 시간 단축을 위한 sampling (리소스 부족)\n",
        "\n",
        "train_1 = train.sample(frac=0.1, random_state = 1004)\n",
        "test_1 = test.sample(frac=0.3, random_state = 1004)"
      ],
      "execution_count": null,
      "outputs": []
    },
    {
      "cell_type": "code",
      "metadata": {
        "colab": {
          "base_uri": "https://localhost:8080/"
        },
        "id": "6-5DoOFzMizY",
        "outputId": "0bede077-4995-4ae0-aa2a-2c5e16a4ed7c"
      },
      "source": [
        "train_1.shape, test_1.shape"
      ],
      "execution_count": null,
      "outputs": [
        {
          "output_type": "execute_result",
          "data": {
            "text/plain": [
              "((30751, 92), (14623, 91))"
            ]
          },
          "metadata": {
            "tags": []
          },
          "execution_count": 6
        }
      ]
    },
    {
      "cell_type": "markdown",
      "metadata": {
        "id": "WFbYliiFwi0w"
      },
      "source": [
        "> **2.2. 데이터 전처리**"
      ]
    },
    {
      "cell_type": "markdown",
      "metadata": {
        "id": "22g9og7GCYde"
      },
      "source": [
        "> 2.2.1. 결측치 처리 ( 0 으로 대체 )"
      ]
    },
    {
      "cell_type": "code",
      "metadata": {
        "colab": {
          "base_uri": "https://localhost:8080/",
          "height": 270
        },
        "id": "x4r6uqtSxK37",
        "outputId": "38aac901-381b-4697-b4eb-1bd84b0b0a34"
      },
      "source": [
        "train_1.head()"
      ],
      "execution_count": null,
      "outputs": [
        {
          "output_type": "execute_result",
          "data": {
            "text/html": [
              "<div>\n",
              "<style scoped>\n",
              "    .dataframe tbody tr th:only-of-type {\n",
              "        vertical-align: middle;\n",
              "    }\n",
              "\n",
              "    .dataframe tbody tr th {\n",
              "        vertical-align: top;\n",
              "    }\n",
              "\n",
              "    .dataframe thead th {\n",
              "        text-align: right;\n",
              "    }\n",
              "</style>\n",
              "<table border=\"1\" class=\"dataframe\">\n",
              "  <thead>\n",
              "    <tr style=\"text-align: right;\">\n",
              "      <th></th>\n",
              "      <th>EXT_SOURCE_3</th>\n",
              "      <th>EXT_SOURCE_2</th>\n",
              "      <th>DAYS_BIRTH</th>\n",
              "      <th>AMT_ANNUITY</th>\n",
              "      <th>AMT_CREDIT</th>\n",
              "      <th>AMT_GOODS_PRICE</th>\n",
              "      <th>DAYS_EMPLOYED</th>\n",
              "      <th>DAYS_CREDIT_ENDDATE_bureau_max</th>\n",
              "      <th>DAYS_CREDIT_bureau_max</th>\n",
              "      <th>DAYS_ID_PUBLISH</th>\n",
              "      <th>DAYS_REGISTRATION</th>\n",
              "      <th>DAYS_ENDDATE_FACT_bureau_max</th>\n",
              "      <th>AMT_CREDIT_SUM_bureau_min</th>\n",
              "      <th>DAYS_LAST_PHONE_CHANGE</th>\n",
              "      <th>REGION_POPULATION_RELATIVE</th>\n",
              "      <th>TOTALAREA_MODE</th>\n",
              "      <th>AMT_CREDIT_SUM_DEBT_bureau_mean</th>\n",
              "      <th>AMT_CREDIT_MAX_OVERDUE_bureau_mean</th>\n",
              "      <th>DAYS_CREDIT_ENDDATE_bureau_mean</th>\n",
              "      <th>AMT_INCOME_TOTAL</th>\n",
              "      <th>AMT_CREDIT_SUM_bureau_mean</th>\n",
              "      <th>DAYS_CREDIT_bureau_mean</th>\n",
              "      <th>AMT_CREDIT_SUM_bureau_max</th>\n",
              "      <th>DAYS_ENDDATE_FACT_bureau_mean</th>\n",
              "      <th>DAYS_CREDIT_bureau_min</th>\n",
              "      <th>DAYS_CREDIT_UPDATE_bureau_max</th>\n",
              "      <th>DAYS_ENDDATE_FACT_bureau_min</th>\n",
              "      <th>DAYS_CREDIT_ENDDATE_bureau_sum</th>\n",
              "      <th>CODE_GENDER_F</th>\n",
              "      <th>AMT_CREDIT_SUM_bureau_sum</th>\n",
              "      <th>DAYS_CREDIT_UPDATE_bureau_sum</th>\n",
              "      <th>AMT_REQ_CREDIT_BUREAU_YEAR</th>\n",
              "      <th>DAYS_CREDIT_UPDATE_bureau_min</th>\n",
              "      <th>NAME_EDUCATION_TYPE_Higher education</th>\n",
              "      <th>AMT_CREDIT_SUM_LIMIT_bureau_mean</th>\n",
              "      <th>HOUR_APPR_PROCESS_START</th>\n",
              "      <th>AMT_CREDIT_SUM_DEBT_bureau_max</th>\n",
              "      <th>DAYS_CREDIT_ENDDATE_bureau_min</th>\n",
              "      <th>AMT_CREDIT_MAX_OVERDUE_bureau_max</th>\n",
              "      <th>YEARS_BEGINEXPLUATATION_MEDI</th>\n",
              "      <th>...</th>\n",
              "      <th>CREDIT_TYPE_Credit card_bureau_mean</th>\n",
              "      <th>DEF_30_CNT_SOCIAL_CIRCLE</th>\n",
              "      <th>CREDIT_TYPE_Consumer credit_bureau_mean</th>\n",
              "      <th>AMT_ANNUITY_bureau_sum</th>\n",
              "      <th>REGION_RATING_CLIENT_W_CITY</th>\n",
              "      <th>AMT_CREDIT_SUM_DEBT_bureau_min</th>\n",
              "      <th>AMT_CREDIT_SUM_LIMIT_bureau_max</th>\n",
              "      <th>AMT_REQ_CREDIT_BUREAU_QRT</th>\n",
              "      <th>NAME_EDUCATION_TYPE_Secondary / secondary special</th>\n",
              "      <th>CREDIT_TYPE_Microloan_bureau_mean</th>\n",
              "      <th>CREDIT_TYPE_Mortgage_bureau_mean</th>\n",
              "      <th>FLOORSMAX_AVG</th>\n",
              "      <th>AMT_CREDIT_SUM_DEBT_bureau_count</th>\n",
              "      <th>FLAG_DOCUMENT_3</th>\n",
              "      <th>YEARS_BEGINEXPLUATATION_AVG</th>\n",
              "      <th>AMT_CREDIT_SUM_LIMIT_bureau_sum</th>\n",
              "      <th>OCCUPATION_TYPE_Core staff</th>\n",
              "      <th>CREDIT_ACTIVE_Active_bureau_mean</th>\n",
              "      <th>CREDIT_ACTIVE_Closed_bureau_mean</th>\n",
              "      <th>AMT_ANNUITY_bureau_count</th>\n",
              "      <th>AMT_REQ_CREDIT_BUREAU_MON</th>\n",
              "      <th>DEF_60_CNT_SOCIAL_CIRCLE</th>\n",
              "      <th>NAME_INCOME_TYPE_Working</th>\n",
              "      <th>CODE_GENDER_M</th>\n",
              "      <th>FLAG_WORK_PHONE</th>\n",
              "      <th>FLAG_DOCUMENT_16</th>\n",
              "      <th>CREDIT_TYPE_Consumer credit_bureau_sum</th>\n",
              "      <th>OBS_60_CNT_SOCIAL_CIRCLE</th>\n",
              "      <th>CREDIT_ACTIVE_Closed_bureau_sum</th>\n",
              "      <th>AMT_CREDIT_MAX_OVERDUE_bureau_min</th>\n",
              "      <th>FLAG_DOCUMENT_18</th>\n",
              "      <th>CREDIT_TYPE_Credit card_bureau_sum</th>\n",
              "      <th>AMT_CREDIT_SUM_OVERDUE_bureau_max</th>\n",
              "      <th>REG_CITY_NOT_LIVE_CITY</th>\n",
              "      <th>OCCUPATION_TYPE_Drivers</th>\n",
              "      <th>OCCUPATION_TYPE_Laborers</th>\n",
              "      <th>DAYS_CREDIT_ENDDATE_bureau_count</th>\n",
              "      <th>DAYS_ENDDATE_FACT_bureau_count</th>\n",
              "      <th>TARGET</th>\n",
              "      <th>SK_ID_CURR</th>\n",
              "    </tr>\n",
              "  </thead>\n",
              "  <tbody>\n",
              "    <tr>\n",
              "      <th>136164</th>\n",
              "      <td>0.657784</td>\n",
              "      <td>0.554038</td>\n",
              "      <td>-20211</td>\n",
              "      <td>58347.0</td>\n",
              "      <td>1042560.0</td>\n",
              "      <td>900000.0</td>\n",
              "      <td>365243</td>\n",
              "      <td>458.0</td>\n",
              "      <td>-945.0</td>\n",
              "      <td>-3688</td>\n",
              "      <td>-6587.0</td>\n",
              "      <td>NaN</td>\n",
              "      <td>90000.0</td>\n",
              "      <td>-2133.0</td>\n",
              "      <td>0.020246</td>\n",
              "      <td>NaN</td>\n",
              "      <td>3721.50000</td>\n",
              "      <td>NaN</td>\n",
              "      <td>458.000000</td>\n",
              "      <td>184500.0</td>\n",
              "      <td>90000.000</td>\n",
              "      <td>-945.000000</td>\n",
              "      <td>90000.0</td>\n",
              "      <td>NaN</td>\n",
              "      <td>-945.0</td>\n",
              "      <td>-171.0</td>\n",
              "      <td>NaN</td>\n",
              "      <td>458.0</td>\n",
              "      <td>1</td>\n",
              "      <td>90000.0</td>\n",
              "      <td>-171.0</td>\n",
              "      <td>4.0</td>\n",
              "      <td>-171.0</td>\n",
              "      <td>1</td>\n",
              "      <td>0.00000</td>\n",
              "      <td>6</td>\n",
              "      <td>3721.5</td>\n",
              "      <td>458.0</td>\n",
              "      <td>NaN</td>\n",
              "      <td>NaN</td>\n",
              "      <td>...</td>\n",
              "      <td>1.00</td>\n",
              "      <td>0.0</td>\n",
              "      <td>0.00</td>\n",
              "      <td>0.00</td>\n",
              "      <td>3</td>\n",
              "      <td>3721.500</td>\n",
              "      <td>0.000</td>\n",
              "      <td>1.0</td>\n",
              "      <td>0</td>\n",
              "      <td>0.0</td>\n",
              "      <td>0.00</td>\n",
              "      <td>NaN</td>\n",
              "      <td>1.0</td>\n",
              "      <td>0</td>\n",
              "      <td>NaN</td>\n",
              "      <td>0.000</td>\n",
              "      <td>0</td>\n",
              "      <td>1.000000</td>\n",
              "      <td>0.000000</td>\n",
              "      <td>0.0</td>\n",
              "      <td>0.0</td>\n",
              "      <td>0.0</td>\n",
              "      <td>0</td>\n",
              "      <td>0</td>\n",
              "      <td>0</td>\n",
              "      <td>0</td>\n",
              "      <td>0.0</td>\n",
              "      <td>2.0</td>\n",
              "      <td>0.0</td>\n",
              "      <td>NaN</td>\n",
              "      <td>0</td>\n",
              "      <td>1.0</td>\n",
              "      <td>0.0</td>\n",
              "      <td>0</td>\n",
              "      <td>0</td>\n",
              "      <td>0</td>\n",
              "      <td>1.0</td>\n",
              "      <td>0.0</td>\n",
              "      <td>0</td>\n",
              "      <td>257942</td>\n",
              "    </tr>\n",
              "    <tr>\n",
              "      <th>285576</th>\n",
              "      <td>0.445396</td>\n",
              "      <td>0.721814</td>\n",
              "      <td>-12806</td>\n",
              "      <td>19948.5</td>\n",
              "      <td>298512.0</td>\n",
              "      <td>270000.0</td>\n",
              "      <td>-389</td>\n",
              "      <td>767.0</td>\n",
              "      <td>-479.0</td>\n",
              "      <td>-4230</td>\n",
              "      <td>-4955.0</td>\n",
              "      <td>-2510.0</td>\n",
              "      <td>4500.0</td>\n",
              "      <td>-887.0</td>\n",
              "      <td>0.030755</td>\n",
              "      <td>0.0576</td>\n",
              "      <td>-44.42625</td>\n",
              "      <td>1250.280</td>\n",
              "      <td>-485.000000</td>\n",
              "      <td>144000.0</td>\n",
              "      <td>88660.125</td>\n",
              "      <td>-1357.750000</td>\n",
              "      <td>218556.0</td>\n",
              "      <td>-2510.0</td>\n",
              "      <td>-2785.0</td>\n",
              "      <td>-461.0</td>\n",
              "      <td>-2510.0</td>\n",
              "      <td>-1940.0</td>\n",
              "      <td>0</td>\n",
              "      <td>354640.5</td>\n",
              "      <td>-4115.0</td>\n",
              "      <td>4.0</td>\n",
              "      <td>-2510.0</td>\n",
              "      <td>0</td>\n",
              "      <td>1169.42625</td>\n",
              "      <td>9</td>\n",
              "      <td>0.0</td>\n",
              "      <td>-2451.0</td>\n",
              "      <td>2526.12</td>\n",
              "      <td>0.9841</td>\n",
              "      <td>...</td>\n",
              "      <td>0.25</td>\n",
              "      <td>0.0</td>\n",
              "      <td>0.75</td>\n",
              "      <td>0.00</td>\n",
              "      <td>2</td>\n",
              "      <td>-177.705</td>\n",
              "      <td>4677.705</td>\n",
              "      <td>0.0</td>\n",
              "      <td>1</td>\n",
              "      <td>0.0</td>\n",
              "      <td>0.00</td>\n",
              "      <td>0.1667</td>\n",
              "      <td>4.0</td>\n",
              "      <td>1</td>\n",
              "      <td>0.9841</td>\n",
              "      <td>4677.705</td>\n",
              "      <td>0</td>\n",
              "      <td>0.750000</td>\n",
              "      <td>0.250000</td>\n",
              "      <td>0.0</td>\n",
              "      <td>0.0</td>\n",
              "      <td>0.0</td>\n",
              "      <td>1</td>\n",
              "      <td>1</td>\n",
              "      <td>1</td>\n",
              "      <td>0</td>\n",
              "      <td>3.0</td>\n",
              "      <td>2.0</td>\n",
              "      <td>1.0</td>\n",
              "      <td>0.0</td>\n",
              "      <td>0</td>\n",
              "      <td>1.0</td>\n",
              "      <td>0.0</td>\n",
              "      <td>0</td>\n",
              "      <td>1</td>\n",
              "      <td>0</td>\n",
              "      <td>4.0</td>\n",
              "      <td>1.0</td>\n",
              "      <td>0</td>\n",
              "      <td>430747</td>\n",
              "    </tr>\n",
              "    <tr>\n",
              "      <th>212823</th>\n",
              "      <td>0.700184</td>\n",
              "      <td>0.791793</td>\n",
              "      <td>-18749</td>\n",
              "      <td>26217.0</td>\n",
              "      <td>808650.0</td>\n",
              "      <td>675000.0</td>\n",
              "      <td>-2315</td>\n",
              "      <td>264.0</td>\n",
              "      <td>-282.0</td>\n",
              "      <td>-2277</td>\n",
              "      <td>-6991.0</td>\n",
              "      <td>-365.0</td>\n",
              "      <td>28795.5</td>\n",
              "      <td>-1003.0</td>\n",
              "      <td>0.010500</td>\n",
              "      <td>0.2322</td>\n",
              "      <td>26206.20000</td>\n",
              "      <td>0.000</td>\n",
              "      <td>-786.666667</td>\n",
              "      <td>112500.0</td>\n",
              "      <td>150591.000</td>\n",
              "      <td>-1178.000000</td>\n",
              "      <td>225000.0</td>\n",
              "      <td>-961.2</td>\n",
              "      <td>-2583.0</td>\n",
              "      <td>-26.0</td>\n",
              "      <td>-1962.0</td>\n",
              "      <td>-4720.0</td>\n",
              "      <td>1</td>\n",
              "      <td>903546.0</td>\n",
              "      <td>-4826.0</td>\n",
              "      <td>1.0</td>\n",
              "      <td>-1961.0</td>\n",
              "      <td>0</td>\n",
              "      <td>0.00000</td>\n",
              "      <td>13</td>\n",
              "      <td>131031.0</td>\n",
              "      <td>-2401.0</td>\n",
              "      <td>0.00</td>\n",
              "      <td>0.9841</td>\n",
              "      <td>...</td>\n",
              "      <td>0.00</td>\n",
              "      <td>0.0</td>\n",
              "      <td>1.00</td>\n",
              "      <td>0.00</td>\n",
              "      <td>3</td>\n",
              "      <td>0.000</td>\n",
              "      <td>0.000</td>\n",
              "      <td>0.0</td>\n",
              "      <td>1</td>\n",
              "      <td>0.0</td>\n",
              "      <td>0.00</td>\n",
              "      <td>0.3333</td>\n",
              "      <td>5.0</td>\n",
              "      <td>1</td>\n",
              "      <td>0.9841</td>\n",
              "      <td>0.000</td>\n",
              "      <td>0</td>\n",
              "      <td>0.166667</td>\n",
              "      <td>0.833333</td>\n",
              "      <td>6.0</td>\n",
              "      <td>0.0</td>\n",
              "      <td>0.0</td>\n",
              "      <td>1</td>\n",
              "      <td>0</td>\n",
              "      <td>0</td>\n",
              "      <td>0</td>\n",
              "      <td>6.0</td>\n",
              "      <td>0.0</td>\n",
              "      <td>5.0</td>\n",
              "      <td>0.0</td>\n",
              "      <td>0</td>\n",
              "      <td>0.0</td>\n",
              "      <td>0.0</td>\n",
              "      <td>0</td>\n",
              "      <td>0</td>\n",
              "      <td>0</td>\n",
              "      <td>6.0</td>\n",
              "      <td>5.0</td>\n",
              "      <td>0</td>\n",
              "      <td>346627</td>\n",
              "    </tr>\n",
              "    <tr>\n",
              "      <th>266251</th>\n",
              "      <td>0.740799</td>\n",
              "      <td>0.285925</td>\n",
              "      <td>-23677</td>\n",
              "      <td>29677.5</td>\n",
              "      <td>755190.0</td>\n",
              "      <td>675000.0</td>\n",
              "      <td>365243</td>\n",
              "      <td>3359.0</td>\n",
              "      <td>-247.0</td>\n",
              "      <td>-4420</td>\n",
              "      <td>-3614.0</td>\n",
              "      <td>-2365.0</td>\n",
              "      <td>127341.0</td>\n",
              "      <td>-1636.0</td>\n",
              "      <td>0.010643</td>\n",
              "      <td>NaN</td>\n",
              "      <td>452551.38750</td>\n",
              "      <td>0.000</td>\n",
              "      <td>367.500000</td>\n",
              "      <td>135000.0</td>\n",
              "      <td>616835.250</td>\n",
              "      <td>-1321.500000</td>\n",
              "      <td>1800000.0</td>\n",
              "      <td>-2365.0</td>\n",
              "      <td>-2869.0</td>\n",
              "      <td>-28.0</td>\n",
              "      <td>-2365.0</td>\n",
              "      <td>1470.0</td>\n",
              "      <td>1</td>\n",
              "      <td>2467341.0</td>\n",
              "      <td>-798.0</td>\n",
              "      <td>2.0</td>\n",
              "      <td>-650.0</td>\n",
              "      <td>0</td>\n",
              "      <td>0.00000</td>\n",
              "      <td>10</td>\n",
              "      <td>1673014.5</td>\n",
              "      <td>-2321.0</td>\n",
              "      <td>0.00</td>\n",
              "      <td>NaN</td>\n",
              "      <td>...</td>\n",
              "      <td>0.00</td>\n",
              "      <td>0.0</td>\n",
              "      <td>0.75</td>\n",
              "      <td>0.00</td>\n",
              "      <td>2</td>\n",
              "      <td>0.000</td>\n",
              "      <td>0.000</td>\n",
              "      <td>0.0</td>\n",
              "      <td>1</td>\n",
              "      <td>0.0</td>\n",
              "      <td>0.25</td>\n",
              "      <td>NaN</td>\n",
              "      <td>4.0</td>\n",
              "      <td>0</td>\n",
              "      <td>NaN</td>\n",
              "      <td>0.000</td>\n",
              "      <td>0</td>\n",
              "      <td>0.750000</td>\n",
              "      <td>0.250000</td>\n",
              "      <td>0.0</td>\n",
              "      <td>0.0</td>\n",
              "      <td>0.0</td>\n",
              "      <td>0</td>\n",
              "      <td>0</td>\n",
              "      <td>0</td>\n",
              "      <td>0</td>\n",
              "      <td>3.0</td>\n",
              "      <td>2.0</td>\n",
              "      <td>1.0</td>\n",
              "      <td>0.0</td>\n",
              "      <td>0</td>\n",
              "      <td>0.0</td>\n",
              "      <td>0.0</td>\n",
              "      <td>0</td>\n",
              "      <td>0</td>\n",
              "      <td>0</td>\n",
              "      <td>4.0</td>\n",
              "      <td>1.0</td>\n",
              "      <td>1</td>\n",
              "      <td>408434</td>\n",
              "    </tr>\n",
              "    <tr>\n",
              "      <th>156004</th>\n",
              "      <td>0.832785</td>\n",
              "      <td>0.604983</td>\n",
              "      <td>-17045</td>\n",
              "      <td>19332.0</td>\n",
              "      <td>178290.0</td>\n",
              "      <td>157500.0</td>\n",
              "      <td>-2401</td>\n",
              "      <td>-1711.0</td>\n",
              "      <td>-2015.0</td>\n",
              "      <td>-596</td>\n",
              "      <td>-4389.0</td>\n",
              "      <td>-1772.0</td>\n",
              "      <td>13554.0</td>\n",
              "      <td>-1359.0</td>\n",
              "      <td>0.010643</td>\n",
              "      <td>NaN</td>\n",
              "      <td>0.00000</td>\n",
              "      <td>2912.895</td>\n",
              "      <td>-2103.666667</td>\n",
              "      <td>135000.0</td>\n",
              "      <td>23848.500</td>\n",
              "      <td>-2306.333333</td>\n",
              "      <td>34605.0</td>\n",
              "      <td>-2144.0</td>\n",
              "      <td>-2557.0</td>\n",
              "      <td>-1580.0</td>\n",
              "      <td>-2375.0</td>\n",
              "      <td>-6311.0</td>\n",
              "      <td>0</td>\n",
              "      <td>71545.5</td>\n",
              "      <td>-6240.0</td>\n",
              "      <td>3.0</td>\n",
              "      <td>-2375.0</td>\n",
              "      <td>0</td>\n",
              "      <td>0.00000</td>\n",
              "      <td>9</td>\n",
              "      <td>0.0</td>\n",
              "      <td>-2375.0</td>\n",
              "      <td>5825.79</td>\n",
              "      <td>NaN</td>\n",
              "      <td>...</td>\n",
              "      <td>0.00</td>\n",
              "      <td>0.0</td>\n",
              "      <td>1.00</td>\n",
              "      <td>22908.24</td>\n",
              "      <td>2</td>\n",
              "      <td>0.000</td>\n",
              "      <td>0.000</td>\n",
              "      <td>0.0</td>\n",
              "      <td>1</td>\n",
              "      <td>0.0</td>\n",
              "      <td>0.00</td>\n",
              "      <td>NaN</td>\n",
              "      <td>3.0</td>\n",
              "      <td>1</td>\n",
              "      <td>NaN</td>\n",
              "      <td>0.000</td>\n",
              "      <td>0</td>\n",
              "      <td>0.000000</td>\n",
              "      <td>1.000000</td>\n",
              "      <td>2.0</td>\n",
              "      <td>0.0</td>\n",
              "      <td>0.0</td>\n",
              "      <td>1</td>\n",
              "      <td>1</td>\n",
              "      <td>0</td>\n",
              "      <td>0</td>\n",
              "      <td>3.0</td>\n",
              "      <td>0.0</td>\n",
              "      <td>3.0</td>\n",
              "      <td>0.0</td>\n",
              "      <td>0</td>\n",
              "      <td>0.0</td>\n",
              "      <td>0.0</td>\n",
              "      <td>0</td>\n",
              "      <td>1</td>\n",
              "      <td>0</td>\n",
              "      <td>3.0</td>\n",
              "      <td>3.0</td>\n",
              "      <td>0</td>\n",
              "      <td>280840</td>\n",
              "    </tr>\n",
              "  </tbody>\n",
              "</table>\n",
              "<p>5 rows × 92 columns</p>\n",
              "</div>"
            ],
            "text/plain": [
              "        EXT_SOURCE_3  EXT_SOURCE_2  ...  TARGET  SK_ID_CURR\n",
              "136164      0.657784      0.554038  ...       0      257942\n",
              "285576      0.445396      0.721814  ...       0      430747\n",
              "212823      0.700184      0.791793  ...       0      346627\n",
              "266251      0.740799      0.285925  ...       1      408434\n",
              "156004      0.832785      0.604983  ...       0      280840\n",
              "\n",
              "[5 rows x 92 columns]"
            ]
          },
          "metadata": {
            "tags": []
          },
          "execution_count": 39
        }
      ]
    },
    {
      "cell_type": "code",
      "metadata": {
        "colab": {
          "base_uri": "https://localhost:8080/"
        },
        "id": "n4QSQsJhEPnF",
        "outputId": "722fa189-6d1a-455d-fe1d-51a49813d05a"
      },
      "source": [
        "# infinite 값 확인\n",
        "import numpy as np\n",
        "np.isinf(train_1).values.sum()"
      ],
      "execution_count": null,
      "outputs": [
        {
          "output_type": "execute_result",
          "data": {
            "text/plain": [
              "0"
            ]
          },
          "metadata": {
            "tags": []
          },
          "execution_count": 40
        }
      ]
    },
    {
      "cell_type": "code",
      "metadata": {
        "colab": {
          "base_uri": "https://localhost:8080/"
        },
        "id": "4QqJcIVkFQX9",
        "outputId": "dbdaeda7-0365-49a3-bb7e-980234864a77"
      },
      "source": [
        "# nan 값 확인\n",
        "train_1.isna().values.sum()"
      ],
      "execution_count": null,
      "outputs": [
        {
          "output_type": "execute_result",
          "data": {
            "text/plain": [
              "355155"
            ]
          },
          "metadata": {
            "tags": []
          },
          "execution_count": 52
        }
      ]
    },
    {
      "cell_type": "code",
      "metadata": {
        "id": "NKFK0YrfEgIz"
      },
      "source": [
        "# train_2, test_2 : 결측값 0 으로 대체 (nan 이 존재하면 model fit 중에 오류)\n",
        "from sklearn.impute import SimpleImputer\n",
        "\n",
        "train_2 = train_1[train_1.columns.drop(['TARGET','SK_ID_CURR'])]\n",
        "test_2 = test_1[test_1.columns.drop(['SK_ID_CURR'])]\n",
        "\n",
        "train_2 = train_2.fillna(0)\n",
        "test_2 = test_2.fillna(0)"
      ],
      "execution_count": null,
      "outputs": []
    },
    {
      "cell_type": "code",
      "metadata": {
        "colab": {
          "base_uri": "https://localhost:8080/"
        },
        "id": "XOm89A-X1Z9f",
        "outputId": "de2d683e-caf4-44d2-d0c9-0f969c07a895"
      },
      "source": [
        "train_2.shape"
      ],
      "execution_count": null,
      "outputs": [
        {
          "output_type": "execute_result",
          "data": {
            "text/plain": [
              "(30751, 90)"
            ]
          },
          "metadata": {
            "tags": []
          },
          "execution_count": 60
        }
      ]
    },
    {
      "cell_type": "code",
      "metadata": {
        "colab": {
          "base_uri": "https://localhost:8080/"
        },
        "id": "ZWnGgkZPhepE",
        "outputId": "4a585266-374c-4436-c8f9-732efe6ad59e"
      },
      "source": [
        "# nan 값 확인\n",
        "train_2.isna().values.sum()"
      ],
      "execution_count": null,
      "outputs": [
        {
          "output_type": "execute_result",
          "data": {
            "text/plain": [
              "0"
            ]
          },
          "metadata": {
            "tags": []
          },
          "execution_count": 13
        }
      ]
    },
    {
      "cell_type": "markdown",
      "metadata": {
        "id": "IP8l0Sj_JbEt"
      },
      "source": [
        "> 2.2.2. 결측치 처리 ( median 으로 대체 )"
      ]
    },
    {
      "cell_type": "code",
      "metadata": {
        "id": "dvAjLXk8zF7H"
      },
      "source": [
        "# train_3, test_3 : 결측값 median 으로 대체\n",
        "from sklearn.impute import SimpleImputer\n",
        "\n",
        "train_2 = train_1[train_1.columns.drop(['TARGET','SK_ID_CURR'])]\n",
        "test_2 = test_1[test_1.columns.drop(['SK_ID_CURR'])]\n",
        "\n",
        "imputer = SimpleImputer(strategy = 'median')\n",
        "imputer.fit(train_2)\n",
        "\n",
        "train_2 = imputer.transform(train_2)\n",
        "test_2 = imputer.transform(test_2) "
      ],
      "execution_count": null,
      "outputs": []
    },
    {
      "cell_type": "code",
      "metadata": {
        "colab": {
          "base_uri": "https://localhost:8080/"
        },
        "id": "ZhXzwVkhoual",
        "outputId": "fb792f7a-95ec-4648-8555-70b3e533f372"
      },
      "source": [
        "train_2.shape"
      ],
      "execution_count": null,
      "outputs": [
        {
          "output_type": "execute_result",
          "data": {
            "text/plain": [
              "(30751, 90)"
            ]
          },
          "metadata": {
            "tags": []
          },
          "execution_count": 64
        }
      ]
    },
    {
      "cell_type": "markdown",
      "metadata": {
        "id": "MeZwhr3ARABj"
      },
      "source": [
        "> **2.4. 모형 학습** \n",
        "\n",
        "Logistic Regression, Random Forest, Gradient Boost, GBRT 등"
      ]
    },
    {
      "cell_type": "code",
      "metadata": {
        "id": "eh21KASAh1FR"
      },
      "source": [
        "from sklearn.preprocessing import StandardScaler\n",
        "from sklearn.metrics import classification_report, roc_auc_score, confusion_matrix\n",
        "from sklearn.model_selection import train_test_split, cross_val_score, KFold\n",
        "from sklearn.linear_model import LogisticRegression\n",
        "from sklearn.ensemble import GradientBoostingClassifier, AdaBoostClassifier, RandomForestClassifier\n",
        "from sklearn.svm import SVC"
      ],
      "execution_count": null,
      "outputs": []
    },
    {
      "cell_type": "markdown",
      "metadata": {
        "id": "McNGJ18zkevz"
      },
      "source": [
        "2.4.1. 결측치 0 대체 데이터"
      ]
    },
    {
      "cell_type": "code",
      "metadata": {
        "id": "vfp4wZKrxcVe"
      },
      "source": [
        "# Features 설명변수 / Target 목적변수\n",
        "X = train_2\n",
        "y = train_1['TARGET'].values.reshape(-1, 1)\n",
        "\n",
        "# train data split : 개발 & 검증\n",
        "X_train, X_val, y_train, y_val = train_test_split(X, y, test_size=0.4, stratify=y)\n",
        "\n",
        "scaler = StandardScaler().fit(X_train) # 평균과 표준편차 사용하여 scaling"
      ],
      "execution_count": null,
      "outputs": []
    },
    {
      "cell_type": "code",
      "metadata": {
        "id": "riRoDlc7yfIm"
      },
      "source": [
        "models = dict()\n",
        "models['Logreg'] = LogisticRegression(penalty='elasticnet',  class_weight={0:1,1:3}, solver='saga', l1_ratio=0.7)\n",
        "models['Random Forest'] = RandomForestClassifier(n_estimators=300, class_weight={0:1,1:3})\n",
        "models['GradientBoost'] = GradientBoostingClassifier(n_estimators=300)\n",
        "\n",
        "# X_train_2 : scaled train data\n",
        "for model in models:\n",
        "    if model == 'Logreg':\n",
        "        X_train_2 = scaler.transform(X_train) \n",
        "          # logistic regression 은 통계기반 알고리즘으로 scale에 민감하여 scaler 사용하지 않으면 성능 매우 저하됨\n",
        "    else:\n",
        "        X_train_2 = X_train\n",
        "\n",
        "    models[model].fit(X_train_2, y_train)\n",
        "    print(model + ' : fit')\n"
      ],
      "execution_count": null,
      "outputs": []
    },
    {
      "cell_type": "markdown",
      "metadata": {
        "id": "meiRo7ySI-sH"
      },
      "source": [
        "2.4.2. 결측치 median 대체 데이터 "
      ]
    },
    {
      "cell_type": "code",
      "metadata": {
        "colab": {
          "base_uri": "https://localhost:8080/"
        },
        "id": "aSFaQuWKn8Q6",
        "outputId": "0ce43004-fd79-40bf-8d71-5bd854855a2b"
      },
      "source": [
        "train_2.shape"
      ],
      "execution_count": null,
      "outputs": [
        {
          "output_type": "execute_result",
          "data": {
            "text/plain": [
              "(30751, 90)"
            ]
          },
          "metadata": {
            "tags": []
          },
          "execution_count": 67
        }
      ]
    },
    {
      "cell_type": "code",
      "metadata": {
        "colab": {
          "base_uri": "https://localhost:8080/"
        },
        "id": "Ukp7BW2NI-g5",
        "outputId": "625408ef-e2dc-4a7e-cdd5-3175a894e611"
      },
      "source": [
        "# Features 설명변수 / Target 목적변수\n",
        "X = train_2\n",
        "y = train_1['TARGET'].values.reshape(-1, 1)\n",
        "\n",
        "# train data split : 개발 & 검증\n",
        "X_train, X_val, y_train, y_val = train_test_split(X, y, test_size=0.4, stratify=y)\n",
        "\n",
        "scaler = StandardScaler().fit(X_train) # 평균과 표준편차 사용하여 scaling\n",
        "\n",
        "models_2 = dict()\n",
        "models_2['Logreg'] = LogisticRegression(penalty='elasticnet',  class_weight={0:1,1:3}, solver='saga', l1_ratio=0.7)\n",
        "models_2['Random Forest'] = RandomForestClassifier(n_estimators=300, class_weight={0:1,1:3})\n",
        "models_2['GradientBoost'] = GradientBoostingClassifier(n_estimators=300)\n",
        "\n",
        "# model_2 : Median 다중대체\n",
        "for model in models_2:\n",
        "    if model == 'Logreg':\n",
        "        X_train_2 = scaler.transform(X_train) \n",
        "    else:\n",
        "        X_train_2 = X_train\n",
        "\n",
        "    models_2[model].fit(X_train_2, y_train)\n",
        "    print(model + ' : fit')"
      ],
      "execution_count": null,
      "outputs": [
        {
          "output_type": "stream",
          "text": [
            "Logreg : fit\n",
            "Random Forest : fit\n",
            "GradientBoost : fit\n"
          ],
          "name": "stdout"
        }
      ]
    },
    {
      "cell_type": "code",
      "metadata": {
        "colab": {
          "base_uri": "https://localhost:8080/"
        },
        "id": "ZICekbqWI-es",
        "outputId": "46bb5796-9e8b-426d-baec-4af7ff6230dc"
      },
      "source": [
        "models_2['GradientBoost'] = GradientBoostingClassifier(n_estimators=300)\n",
        "models_2['GradientBoost'].fit(X_train_2, y_train)\n",
        "print(model + ' : fit')"
      ],
      "execution_count": null,
      "outputs": [
        {
          "output_type": "stream",
          "text": [
            "Logreg : fit\n"
          ],
          "name": "stdout"
        }
      ]
    },
    {
      "cell_type": "code",
      "metadata": {
        "colab": {
          "base_uri": "https://localhost:8080/"
        },
        "id": "22TireiFI-ca",
        "outputId": "2b01988e-80cc-4f21-b97c-4798ee3de964"
      },
      "source": [
        "# models_2['Random Forest'] = RandomForestClassifier(n_estimators=300, class_weight={0:1,1:3})\n",
        "models_2['Random Forest'].fit(X_train_2, y_train)"
      ],
      "execution_count": null,
      "outputs": [
        {
          "output_type": "execute_result",
          "data": {
            "text/plain": [
              "RandomForestClassifier(bootstrap=True, ccp_alpha=0.0, class_weight={0: 1, 1: 3},\n",
              "                       criterion='gini', max_depth=None, max_features='auto',\n",
              "                       max_leaf_nodes=None, max_samples=None,\n",
              "                       min_impurity_decrease=0.0, min_impurity_split=None,\n",
              "                       min_samples_leaf=1, min_samples_split=2,\n",
              "                       min_weight_fraction_leaf=0.0, n_estimators=300,\n",
              "                       n_jobs=None, oob_score=False, random_state=None,\n",
              "                       verbose=0, warm_start=False)"
            ]
          },
          "metadata": {
            "tags": []
          },
          "execution_count": 26
        }
      ]
    },
    {
      "cell_type": "markdown",
      "metadata": {
        "id": "khKpw86LRhuk"
      },
      "source": [
        "2.4.3. 불균형 데이터 보완을 위한 SMOTE (Synthetic Minority Oversampling Technique) 사용"
      ]
    },
    {
      "cell_type": "code",
      "metadata": {
        "colab": {
          "base_uri": "https://localhost:8080/"
        },
        "id": "5eD-6MofI-Z3",
        "outputId": "5b2f32da-7eb4-4140-d62e-a47ffc5538d8"
      },
      "source": [
        "from imblearn.over_sampling import SMOTE\n",
        "smote = SMOTE(random_state=0)\n",
        "\n",
        "X_train_over,y_train_over = smote.fit_sample(X_train,y_train)\n",
        "print('SMOTE 적용 전 학습용 피처/레이블 데이터 세트: ', X_train.shape, y_train.shape)\n",
        "print('SMOTE 적용 후 학습용 피처/레이블 데이터 세트: ', X_train_over.shape, y_train_over.shape)\n",
        "print('SMOTE 적용 후 레이블 값 분포: \\n', pd.Series(y_train_over).value_counts())"
      ],
      "execution_count": null,
      "outputs": [
        {
          "output_type": "stream",
          "text": [
            "SMOTE 적용 전 학습용 피처/레이블 데이터 세트:  (18450, 90) (18450, 1)\n",
            "SMOTE 적용 후 학습용 피처/레이블 데이터 세트:  (33876, 90) (33876,)\n",
            "SMOTE 적용 후 레이블 값 분포: \n",
            " 1    16938\n",
            "0    16938\n",
            "dtype: int64\n"
          ],
          "name": "stdout"
        }
      ]
    },
    {
      "cell_type": "code",
      "metadata": {
        "id": "BgYzCnqZI-Xj"
      },
      "source": [
        "# Features 설명변수 / Target 목적변수\n",
        "X = X_train_over\n",
        "y = y_train_over['TARGET'].values.reshape(-1, 1)\n",
        "\n",
        "# train data split : 개발 & 검증\n",
        "X_train, X_val, y_train, y_val = train_test_split(X, y, test_size=0.4, stratify=y)\n",
        "\n",
        "scaler = StandardScaler().fit(X_train) # 평균과 표준편차 사용하여 scaling\n",
        "\n",
        "models_3 = dict()\n",
        "models_3['Logreg'] = LogisticRegression(penalty='elasticnet',  class_weight={0:1,1:3}, solver='saga', l1_ratio=0.7)\n",
        "models_3['Random Forest'] = RandomForestClassifier(n_estimators=300, class_weight={0:1,1:3})\n",
        "models_3['GradientBoost'] = GradientBoostingClassifier(n_estimators=300)\n",
        "\n",
        "# models_3 : SMOTE\n",
        "for model in models_3:\n",
        "    if model == 'Logreg':\n",
        "        X_train_2 = scaler.transform(X_train) \n",
        "    else:\n",
        "        X_train_2 = X_train\n",
        "\n",
        "    models_2[model].fit(X_train_2, y_train)\n",
        "    print(model + ' : fit')\n"
      ],
      "execution_count": null,
      "outputs": []
    },
    {
      "cell_type": "markdown",
      "metadata": {
        "id": "mtCm4KNVKw9R"
      },
      "source": [
        "# **3. 모델 검증 및 평가**"
      ]
    },
    {
      "cell_type": "markdown",
      "metadata": {
        "id": "6CRV7HMPK9Ih"
      },
      "source": [
        "> **3.1. K-Fold Cross 검증**\n",
        "\n",
        "평가지표 : AUROC"
      ]
    },
    {
      "cell_type": "code",
      "metadata": {
        "colab": {
          "base_uri": "https://localhost:8080/"
        },
        "id": "ChOQv0ehqp7u",
        "outputId": "e181c737-2f68-4ec0-c621-800ec6b2b830"
      },
      "source": [
        "X_val_2 = scaler.transform(X_val) \n",
        "score = cross_val_score(models_2['Logreg'], X_val_2, y_val, scoring='roc_auc', cv=3)\n",
        "score"
      ],
      "execution_count": null,
      "outputs": [
        {
          "output_type": "execute_result",
          "data": {
            "text/plain": [
              "array([0.73216894, 0.70866938, 0.72457824])"
            ]
          },
          "metadata": {
            "tags": []
          },
          "execution_count": 84
        }
      ]
    },
    {
      "cell_type": "code",
      "metadata": {
        "id": "f4nCHGrjqcHn"
      },
      "source": [
        "X_val_2 = X_val\n",
        "score = cross_val_score(models_2['Random Forest'], X_val_2, y_val, scoring='roc_auc', cv=3)\n",
        "score"
      ],
      "execution_count": null,
      "outputs": []
    },
    {
      "cell_type": "code",
      "metadata": {
        "colab": {
          "base_uri": "https://localhost:8080/"
        },
        "id": "pG7_h_tVq14F",
        "outputId": "18a13ecd-1fe7-4d75-e037-4ff0a1a01bb1"
      },
      "source": [
        "score"
      ],
      "execution_count": null,
      "outputs": [
        {
          "output_type": "execute_result",
          "data": {
            "text/plain": [
              "array([0.68331436, 0.6795685 , 0.69352592])"
            ]
          },
          "metadata": {
            "tags": []
          },
          "execution_count": 80
        }
      ]
    },
    {
      "cell_type": "code",
      "metadata": {
        "colab": {
          "base_uri": "https://localhost:8080/"
        },
        "id": "_hbkEkIDqpbv",
        "outputId": "c9fed5c7-5405-4987-899d-24f3676337d5"
      },
      "source": [
        "X_val_2 = X_val\n",
        "score = cross_val_score(models_2['GradientBoost'], X_val_2, y_val, scoring='roc_auc', cv=3)\n",
        "score"
      ],
      "execution_count": null,
      "outputs": [
        {
          "output_type": "execute_result",
          "data": {
            "text/plain": [
              "array([0.69945377, 0.70093318, 0.71328153])"
            ]
          },
          "metadata": {
            "tags": []
          },
          "execution_count": 82
        }
      ]
    },
    {
      "cell_type": "markdown",
      "metadata": {
        "id": "r7ZSIPdWLXeo"
      },
      "source": [
        "> **3.2. 정오분류표 (Confusion Matrix) 검증**\n",
        "\n",
        "정확도, 정밀도, 재현율, F1-Score"
      ]
    },
    {
      "cell_type": "code",
      "metadata": {
        "colab": {
          "base_uri": "https://localhost:8080/"
        },
        "id": "ibRG55VWMW3F",
        "outputId": "9c01813f-c566-4981-eed1-410acbd77e65"
      },
      "source": [
        "# 학습셋\n",
        "for x in models_2:   \n",
        "    if x == 'Logreg':\n",
        "        X_train_2 = scaler.transform(X_train)\n",
        "    else:\n",
        "        X_train_2=X_train\n",
        "    print('------------------------'+x+'------------------------')\n",
        "    model = models_2[x]\n",
        "    y_train_pred = model.predict(X_train_2)\n",
        "    arg_train = {'y_true':y_train, 'y_pred':y_train_pred}\n",
        "    print(confusion_matrix(**arg_train))\n",
        "    print(classification_report(**arg_train))     \n"
      ],
      "execution_count": null,
      "outputs": [
        {
          "output_type": "stream",
          "text": [
            "------------------------Logreg------------------------\n",
            "[[16392   546]\n",
            " [ 1254   258]]\n",
            "              precision    recall  f1-score   support\n",
            "\n",
            "           0       0.93      0.97      0.95     16938\n",
            "           1       0.32      0.17      0.22      1512\n",
            "\n",
            "    accuracy                           0.90     18450\n",
            "   macro avg       0.62      0.57      0.59     18450\n",
            "weighted avg       0.88      0.90      0.89     18450\n",
            "\n",
            "------------------------Random Forest------------------------\n",
            "[[16938     0]\n",
            " [    0  1512]]\n",
            "              precision    recall  f1-score   support\n",
            "\n",
            "           0       1.00      1.00      1.00     16938\n",
            "           1       1.00      1.00      1.00      1512\n",
            "\n",
            "    accuracy                           1.00     18450\n",
            "   macro avg       1.00      1.00      1.00     18450\n",
            "weighted avg       1.00      1.00      1.00     18450\n",
            "\n",
            "------------------------GradientBoost------------------------\n",
            "[[16931     7]\n",
            " [ 1289   223]]\n",
            "              precision    recall  f1-score   support\n",
            "\n",
            "           0       0.93      1.00      0.96     16938\n",
            "           1       0.97      0.15      0.26      1512\n",
            "\n",
            "    accuracy                           0.93     18450\n",
            "   macro avg       0.95      0.57      0.61     18450\n",
            "weighted avg       0.93      0.93      0.91     18450\n",
            "\n"
          ],
          "name": "stdout"
        }
      ]
    },
    {
      "cell_type": "code",
      "metadata": {
        "colab": {
          "base_uri": "https://localhost:8080/"
        },
        "id": "eyGjGGJs1-UT",
        "outputId": "4e4fcec9-666b-4618-fe09-407f129b302a"
      },
      "source": [
        "# 검증셋\n",
        "for x in models_2:   \n",
        "    if x == 'Logreg':\n",
        "        X_val_2 = scaler.transform(X_val)\n",
        "    else:\n",
        "        X_val_2=X_val\n",
        "    print('------------------------'+x+'------------------------')\n",
        "    model = models_2[x]\n",
        "    y_val_pred = model.predict(X_val_2)\n",
        "    arg_val = {'y_true':y_val, 'y_pred':y_val_pred}\n",
        "    print(confusion_matrix(**arg_val))\n",
        "    print(classification_report(**arg_val)) \n"
      ],
      "execution_count": null,
      "outputs": [
        {
          "output_type": "stream",
          "text": [
            "------------------------Logreg------------------------\n",
            "[[10920   373]\n",
            " [  857   151]]\n",
            "              precision    recall  f1-score   support\n",
            "\n",
            "           0       0.93      0.97      0.95     11293\n",
            "           1       0.29      0.15      0.20      1008\n",
            "\n",
            "    accuracy                           0.90     12301\n",
            "   macro avg       0.61      0.56      0.57     12301\n",
            "weighted avg       0.87      0.90      0.89     12301\n",
            "\n",
            "------------------------Random Forest------------------------\n",
            "[[11292     1]\n",
            " [ 1008     0]]\n",
            "              precision    recall  f1-score   support\n",
            "\n",
            "           0       0.92      1.00      0.96     11293\n",
            "           1       0.00      0.00      0.00      1008\n",
            "\n",
            "    accuracy                           0.92     12301\n",
            "   macro avg       0.46      0.50      0.48     12301\n",
            "weighted avg       0.84      0.92      0.88     12301\n",
            "\n",
            "------------------------GradientBoost------------------------\n",
            "[[11229    64]\n",
            " [  969    39]]\n",
            "              precision    recall  f1-score   support\n",
            "\n",
            "           0       0.92      0.99      0.96     11293\n",
            "           1       0.38      0.04      0.07      1008\n",
            "\n",
            "    accuracy                           0.92     12301\n",
            "   macro avg       0.65      0.52      0.51     12301\n",
            "weighted avg       0.88      0.92      0.88     12301\n",
            "\n"
          ],
          "name": "stdout"
        }
      ]
    },
    {
      "cell_type": "markdown",
      "metadata": {
        "id": "tBryxzlfpQyY"
      },
      "source": [
        "> **3.3. ROC Curve**"
      ]
    },
    {
      "cell_type": "code",
      "metadata": {
        "colab": {
          "base_uri": "https://localhost:8080/",
          "height": 442
        },
        "id": "fyUyDlXJKQvU",
        "outputId": "519eb55a-a6b0-4ae1-e909-734e14ee4b2d"
      },
      "source": [
        "\n",
        "import matplotlib.pyplot as plt\n",
        "from sklearn.metrics import roc_curve, auc\n",
        "\n",
        "fig, ax = plt.subplots()\n",
        "fig.set_size_inches(13,6)\n",
        "\n",
        "for m in models_2:\n",
        "    if x == 'Logreg':\n",
        "        X_val_2 = scaler.transform(X_val)\n",
        "    else:\n",
        "        X_val_2=X_val\n",
        "        \n",
        "    y_pred = models_2[m].predict_proba(X_val_2)\n",
        "    fpr, tpr, _ = roc_curve(y_val, y_pred[:,1].ravel())\n",
        "    roc_auc = auc(fpr, tpr)\n",
        "    print(\"%s Area under the ROC curve : %f\" % (m, roc_auc))\n",
        "    plt.plot(fpr,tpr, label=m)\n",
        "\n",
        "plt.xlabel('False-Positive rate')\n",
        "plt.ylabel('True-Positive rate')\n",
        "plt.legend()\n",
        "plt.show()\n"
      ],
      "execution_count": null,
      "outputs": [
        {
          "output_type": "stream",
          "text": [
            "Logreg Area under the ROC curve : 0.513999\n",
            "Random Forest Area under the ROC curve : 0.699237\n",
            "GradientBoost Area under the ROC curve : 0.727245\n"
          ],
          "name": "stdout"
        },
        {
          "output_type": "display_data",
          "data": {
            "image/png": "[encoded data removed]",
            "text/plain": [
              "<Figure size 936x432 with 1 Axes>"
            ]
          },
          "metadata": {
            "tags": [],
            "needs_background": "light"
          }
        }
      ]
    },
    {
      "cell_type": "markdown",
      "metadata": {
        "id": "kOOS_wqMpsxH"
      },
      "source": [
        "> **3.4. 스코어화**"
      ]
    },
    {
      "cell_type": "code",
      "metadata": {
        "id": "bsRoNvTWWRV7"
      },
      "source": [
        "for model in models_2:\n",
        "   model_pred = models_2[model].predict_proba(test_2)"
      ],
      "execution_count": null,
      "outputs": []
    },
    {
      "cell_type": "code",
      "metadata": {
        "colab": {
          "base_uri": "https://localhost:8080/"
        },
        "id": "JCFgyju9sixy",
        "outputId": "7fdbc513-0403-4b20-b014-52a56049ec3e"
      },
      "source": [
        "model_pred"
      ],
      "execution_count": null,
      "outputs": [
        {
          "output_type": "execute_result",
          "data": {
            "text/plain": [
              "array([[0.8912955 , 0.1087045 ],\n",
              "       [0.83280618, 0.16719382],\n",
              "       [0.97015348, 0.02984652],\n",
              "       ...,\n",
              "       [0.92869996, 0.07130004],\n",
              "       [0.93805083, 0.06194917],\n",
              "       [0.82200182, 0.17799818]])"
            ]
          },
          "metadata": {
            "tags": []
          },
          "execution_count": 93
        }
      ]
    },
    {
      "cell_type": "code",
      "metadata": {
        "colab": {
          "base_uri": "https://localhost:8080/"
        },
        "id": "8ds2gJOpW0BY",
        "outputId": "317e79fa-89c6-4efc-bce3-851600369b1d"
      },
      "source": [
        "model.predict_proba(X_test)\n",
        "# RF"
      ],
      "execution_count": null,
      "outputs": [
        {
          "output_type": "execute_result",
          "data": {
            "text/plain": [
              "array([[0.86333333, 0.13666667],\n",
              "       [0.84666667, 0.15333333],\n",
              "       [0.93666667, 0.06333333],\n",
              "       ...,\n",
              "       [0.85      , 0.15      ],\n",
              "       [0.91666667, 0.08333333],\n",
              "       [0.97      , 0.03      ]])"
            ]
          },
          "metadata": {
            "tags": []
          },
          "execution_count": 98
        }
      ]
    },
    {
      "cell_type": "code",
      "metadata": {
        "colab": {
          "base_uri": "https://localhost:8080/"
        },
        "id": "QidLSbZgDHMc",
        "outputId": "508740a9-52f8-4f6d-bdec-83027dc92c6a"
      },
      "source": [
        "model.predict_proba(X_test)\n",
        "# gb"
      ],
      "execution_count": null,
      "outputs": [
        {
          "output_type": "execute_result",
          "data": {
            "text/plain": [
              "array([[0.95572754, 0.04427246],\n",
              "       [0.93724002, 0.06275998],\n",
              "       [0.76090112, 0.23909888],\n",
              "       ...,\n",
              "       [0.89791581, 0.10208419],\n",
              "       [0.97400007, 0.02599993],\n",
              "       [0.85765147, 0.14234853]])"
            ]
          },
          "metadata": {
            "tags": []
          },
          "execution_count": 43
        }
      ]
    },
    {
      "cell_type": "code",
      "metadata": {
        "id": "DRJEBCxH_CXJ"
      },
      "source": [
        "df_proba = pd.DataFrame(model.predict_proba(X_test))\n",
        "df_proba \n",
        "# %%\n",
        "df_proba['pred'] = model.predict(X_test)"
      ],
      "execution_count": null,
      "outputs": []
    },
    {
      "cell_type": "code",
      "metadata": {
        "id": "hlReIGxSC172"
      },
      "source": [
        "df_proba"
      ],
      "execution_count": null,
      "outputs": []
    },
    {
      "cell_type": "code",
      "metadata": {
        "id": "59QYm3En_fjf"
      },
      "source": [
        "df_proba[0].plot.hist()"
      ],
      "execution_count": null,
      "outputs": []
    },
    {
      "cell_type": "code",
      "metadata": {
        "colab": {
          "base_uri": "https://localhost:8080/",
          "height": 669
        },
        "id": "fcN2LqsfIygv",
        "outputId": "03d6ba8e-3b10-4599-d804-0ff977949d7b"
      },
      "source": [
        "df_importance = pd.DataFrame(train_1.columns.drop('TARGET') )\n",
        "df_importance['importance'] = model.feature_importances_\n",
        "df_importance.sort_values(by = 'importance', ascending=False).head(20)\n",
        "# gb"
      ],
      "execution_count": null,
      "outputs": [
        {
          "output_type": "execute_result",
          "data": {
            "text/html": [
              "<div>\n",
              "<style scoped>\n",
              "    .dataframe tbody tr th:only-of-type {\n",
              "        vertical-align: middle;\n",
              "    }\n",
              "\n",
              "    .dataframe tbody tr th {\n",
              "        vertical-align: top;\n",
              "    }\n",
              "\n",
              "    .dataframe thead th {\n",
              "        text-align: right;\n",
              "    }\n",
              "</style>\n",
              "<table border=\"1\" class=\"dataframe\">\n",
              "  <thead>\n",
              "    <tr style=\"text-align: right;\">\n",
              "      <th></th>\n",
              "      <th>0</th>\n",
              "      <th>importance</th>\n",
              "    </tr>\n",
              "  </thead>\n",
              "  <tbody>\n",
              "    <tr>\n",
              "      <th>0</th>\n",
              "      <td>EXT_SOURCE_3</td>\n",
              "      <td>0.305531</td>\n",
              "    </tr>\n",
              "    <tr>\n",
              "      <th>11</th>\n",
              "      <td>EXT_SOURCE_2</td>\n",
              "      <td>0.302201</td>\n",
              "    </tr>\n",
              "    <tr>\n",
              "      <th>57</th>\n",
              "      <td>DAYS_BIRTH</td>\n",
              "      <td>0.058643</td>\n",
              "    </tr>\n",
              "    <tr>\n",
              "      <th>12</th>\n",
              "      <td>AMT_GOODS_PRICE</td>\n",
              "      <td>0.034098</td>\n",
              "    </tr>\n",
              "    <tr>\n",
              "      <th>37</th>\n",
              "      <td>AMT_CREDIT</td>\n",
              "      <td>0.033367</td>\n",
              "    </tr>\n",
              "    <tr>\n",
              "      <th>70</th>\n",
              "      <td>CODE_GENDER_M</td>\n",
              "      <td>0.028629</td>\n",
              "    </tr>\n",
              "    <tr>\n",
              "      <th>13</th>\n",
              "      <td>AMT_ANNUITY</td>\n",
              "      <td>0.025249</td>\n",
              "    </tr>\n",
              "    <tr>\n",
              "      <th>94</th>\n",
              "      <td>NAME_EDUCATION_TYPE_Higher education</td>\n",
              "      <td>0.025192</td>\n",
              "    </tr>\n",
              "    <tr>\n",
              "      <th>56</th>\n",
              "      <td>DAYS_EMPLOYED</td>\n",
              "      <td>0.020891</td>\n",
              "    </tr>\n",
              "    <tr>\n",
              "      <th>54</th>\n",
              "      <td>DAYS_ID_PUBLISH</td>\n",
              "      <td>0.013283</td>\n",
              "    </tr>\n",
              "    <tr>\n",
              "      <th>59</th>\n",
              "      <td>SK_ID_CURR</td>\n",
              "      <td>0.011590</td>\n",
              "    </tr>\n",
              "    <tr>\n",
              "      <th>19</th>\n",
              "      <td>FLAG_DOCUMENT_3</td>\n",
              "      <td>0.011082</td>\n",
              "    </tr>\n",
              "    <tr>\n",
              "      <th>55</th>\n",
              "      <td>DAYS_REGISTRATION</td>\n",
              "      <td>0.009871</td>\n",
              "    </tr>\n",
              "    <tr>\n",
              "      <th>97</th>\n",
              "      <td>NAME_EDUCATION_TYPE_Secondary / secondary special</td>\n",
              "      <td>0.008648</td>\n",
              "    </tr>\n",
              "    <tr>\n",
              "      <th>104</th>\n",
              "      <td>NAME_INCOME_TYPE_Working</td>\n",
              "      <td>0.008605</td>\n",
              "    </tr>\n",
              "    <tr>\n",
              "      <th>15</th>\n",
              "      <td>DAYS_LAST_PHONE_CHANGE</td>\n",
              "      <td>0.007987</td>\n",
              "    </tr>\n",
              "    <tr>\n",
              "      <th>72</th>\n",
              "      <td>FLAG_OWN_CAR_Y</td>\n",
              "      <td>0.007425</td>\n",
              "    </tr>\n",
              "    <tr>\n",
              "      <th>46</th>\n",
              "      <td>HOUR_APPR_PROCESS_START</td>\n",
              "      <td>0.007236</td>\n",
              "    </tr>\n",
              "    <tr>\n",
              "      <th>69</th>\n",
              "      <td>CODE_GENDER_F</td>\n",
              "      <td>0.006780</td>\n",
              "    </tr>\n",
              "    <tr>\n",
              "      <th>38</th>\n",
              "      <td>AMT_INCOME_TOTAL</td>\n",
              "      <td>0.006515</td>\n",
              "    </tr>\n",
              "  </tbody>\n",
              "</table>\n",
              "</div>"
            ],
            "text/plain": [
              "                                                     0  importance\n",
              "0                                         EXT_SOURCE_3    0.305531\n",
              "11                                        EXT_SOURCE_2    0.302201\n",
              "57                                          DAYS_BIRTH    0.058643\n",
              "12                                     AMT_GOODS_PRICE    0.034098\n",
              "37                                          AMT_CREDIT    0.033367\n",
              "70                                       CODE_GENDER_M    0.028629\n",
              "13                                         AMT_ANNUITY    0.025249\n",
              "94                NAME_EDUCATION_TYPE_Higher education    0.025192\n",
              "56                                       DAYS_EMPLOYED    0.020891\n",
              "54                                     DAYS_ID_PUBLISH    0.013283\n",
              "59                                          SK_ID_CURR    0.011590\n",
              "19                                     FLAG_DOCUMENT_3    0.011082\n",
              "55                                   DAYS_REGISTRATION    0.009871\n",
              "97   NAME_EDUCATION_TYPE_Secondary / secondary special    0.008648\n",
              "104                           NAME_INCOME_TYPE_Working    0.008605\n",
              "15                              DAYS_LAST_PHONE_CHANGE    0.007987\n",
              "72                                      FLAG_OWN_CAR_Y    0.007425\n",
              "46                             HOUR_APPR_PROCESS_START    0.007236\n",
              "69                                       CODE_GENDER_F    0.006780\n",
              "38                                    AMT_INCOME_TOTAL    0.006515"
            ]
          },
          "metadata": {
            "tags": []
          },
          "execution_count": 56
        }
      ]
    },
    {
      "cell_type": "code",
      "metadata": {
        "colab": {
          "base_uri": "https://localhost:8080/"
        },
        "id": "ZJsErMezE8Km",
        "outputId": "f2ae2842-f811-4cee-9ea5-6a1b70141035"
      },
      "source": [
        "model.feature_importances_"
      ],
      "execution_count": null,
      "outputs": [
        {
          "output_type": "execute_result",
          "data": {
            "text/plain": [
              "array([3.05530538e-01, 0.00000000e+00, 3.10141993e-04, 1.89881620e-04,\n",
              "       1.76627109e-03, 3.18372681e-03, 2.97852569e-03, 2.02439944e-03,\n",
              "       2.36641370e-03, 6.86920358e-04, 4.59925137e-03, 3.02200691e-01,\n",
              "       3.40981413e-02, 2.52488412e-02, 2.06534607e-03, 7.98700391e-03,\n",
              "       1.13162383e-03, 0.00000000e+00, 5.53620074e-04, 1.10819628e-02,\n",
              "       0.00000000e+00, 6.20657444e-07, 3.34526345e-04, 7.15378102e-05,\n",
              "       5.17964233e-04, 4.57227978e-04, 0.00000000e+00, 3.88470526e-05,\n",
              "       4.55641110e-04, 1.49532980e-04, 1.92065429e-04, 8.33769633e-04,\n",
              "       1.49032785e-04, 9.53250277e-04, 3.27219470e-04, 0.00000000e+00,\n",
              "       0.00000000e+00, 3.33673315e-02, 6.51475370e-03, 9.60045366e-04,\n",
              "       2.99216038e-04, 2.50084075e-06, 6.03430011e-03, 3.49655454e-04,\n",
              "       9.78099394e-05, 4.01077614e-04, 7.23592067e-03, 4.67193869e-03,\n",
              "       7.62062541e-04, 6.97625652e-05, 1.76093227e-04, 1.57552595e-03,\n",
              "       0.00000000e+00, 0.00000000e+00, 1.32832539e-02, 9.87145911e-03,\n",
              "       2.08910129e-02, 5.86425094e-02, 2.97745999e-03, 1.15898345e-02,\n",
              "       0.00000000e+00, 4.08186415e-05, 0.00000000e+00, 5.48287821e-04,\n",
              "       6.09653102e-04, 2.53356540e-05, 6.64991946e-05, 2.16398327e-03,\n",
              "       1.54395492e-03, 6.78023322e-03, 2.86289114e-02, 2.63874801e-03,\n",
              "       7.42515612e-03, 0.00000000e+00, 2.74345560e-04, 1.99889221e-04,\n",
              "       1.00731282e-03, 7.58576699e-05, 1.88875845e-04, 0.00000000e+00,\n",
              "       7.39506342e-04, 7.95328767e-04, 0.00000000e+00, 4.80273402e-04,\n",
              "       6.61487255e-04, 1.16790753e-03, 6.35458759e-04, 4.38741393e-04,\n",
              "       1.87383265e-04, 3.53361969e-03, 0.00000000e+00, 4.59178866e-04,\n",
              "       1.49820128e-04, 1.33858415e-04, 2.51922945e-02, 3.12144206e-04,\n",
              "       1.33921098e-03, 8.64813024e-03, 0.00000000e+00, 0.00000000e+00,\n",
              "       2.15687424e-04, 8.38748082e-04, 0.00000000e+00, 9.90685291e-04,\n",
              "       8.60461300e-03])"
            ]
          },
          "metadata": {
            "tags": []
          },
          "execution_count": 49
        }
      ]
    },
    {
      "cell_type": "code",
      "metadata": {
        "id": "h4fR47DYE8By"
      },
      "source": [
        ""
      ],
      "execution_count": null,
      "outputs": []
    },
    {
      "cell_type": "code",
      "metadata": {
        "id": "cDUYgtviFVBx"
      },
      "source": [
        "import lightgbm as lgb\n",
        "model = lgb.LGBMClassifier(n_estimators=10000, objective = 'binary', \n",
        "                                   class_weight = 'balanced', learning_rate = 0.05, \n",
        "                                   reg_alpha = 0.1, reg_lambda = 0.1, \n",
        "                                   subsample = 0.8, n_jobs = -1, random_state = 50)\n",
        "        "
      ],
      "execution_count": null,
      "outputs": []
    },
    {
      "cell_type": "code",
      "metadata": {
        "colab": {
          "base_uri": "https://localhost:8080/"
        },
        "id": "yE906O_aFU_K",
        "outputId": "d420deb4-4e40-41f4-8b05-37c6c8f8bdad"
      },
      "source": [
        " model.fit(X_train_2, y_train, eval_metric = 'auc',\n",
        "                  eval_set = [(X_test_2, y_test), (X_train_2, y_train)],\n",
        "                  eval_names = ['valid', 'train'], \n",
        "                  # categorical_feature = cat_indices,\n",
        "                  early_stopping_rounds = 100, verbose = 200)"
      ],
      "execution_count": null,
      "outputs": [
        {
          "output_type": "stream",
          "text": [
            "/usr/local/lib/python3.7/dist-packages/sklearn/preprocessing/_label.py:235: DataConversionWarning: A column-vector y was passed when a 1d array was expected. Please change the shape of y to (n_samples, ), for example using ravel().\n",
            "  y = column_or_1d(y, warn=True)\n",
            "/usr/local/lib/python3.7/dist-packages/sklearn/preprocessing/_label.py:268: DataConversionWarning: A column-vector y was passed when a 1d array was expected. Please change the shape of y to (n_samples, ), for example using ravel().\n",
            "  y = column_or_1d(y, warn=True)\n"
          ],
          "name": "stderr"
        },
        {
          "output_type": "stream",
          "text": [
            "Training until validation scores don't improve for 100 rounds.\n",
            "[200]\ttrain's binary_logloss: 0.546976\ttrain's auc: 0.801296\tvalid's binary_logloss: 0.563407\tvalid's auc: 0.748922\n",
            "Early stopping, best iteration is:\n",
            "[167]\ttrain's binary_logloss: 0.553801\ttrain's auc: 0.794118\tvalid's binary_logloss: 0.567413\tvalid's auc: 0.749096\n"
          ],
          "name": "stdout"
        },
        {
          "output_type": "execute_result",
          "data": {
            "text/plain": [
              "LGBMClassifier(boosting_type='gbdt', class_weight='balanced',\n",
              "               colsample_bytree=1.0, importance_type='split',\n",
              "               learning_rate=0.05, max_depth=-1, min_child_samples=20,\n",
              "               min_child_weight=0.001, min_split_gain=0.0, n_estimators=10000,\n",
              "               n_jobs=-1, num_leaves=31, objective='binary', random_state=50,\n",
              "               reg_alpha=0.1, reg_lambda=0.1, silent=True, subsample=0.8,\n",
              "               subsample_for_bin=200000, subsample_freq=0)"
            ]
          },
          "metadata": {
            "tags": []
          },
          "execution_count": 59
        }
      ]
    },
    {
      "cell_type": "code",
      "metadata": {
        "colab": {
          "base_uri": "https://localhost:8080/"
        },
        "id": "2IWPhJThMcB0",
        "outputId": "80c3715c-f40b-473b-f20c-f7fc4ff35c9c"
      },
      "source": [
        "  y_test_pred = model.predict(X_test_2)\n",
        "  arg_test = {'y_true':y_test, 'y_pred':y_test_pred}\n",
        "  print(confusion_matrix(**arg_test))\n",
        "  print(classification_report(**arg_test))     "
      ],
      "execution_count": null,
      "outputs": [
        {
          "output_type": "stream",
          "text": [
            "[[90402 36807]\n",
            " [ 3878  7293]]\n",
            "              precision    recall  f1-score   support\n",
            "\n",
            "           0       0.96      0.71      0.82    127209\n",
            "           1       0.17      0.65      0.26     11171\n",
            "\n",
            "    accuracy                           0.71    138380\n",
            "   macro avg       0.56      0.68      0.54    138380\n",
            "weighted avg       0.89      0.71      0.77    138380\n",
            "\n"
          ],
          "name": "stdout"
        }
      ]
    },
    {
      "cell_type": "code",
      "metadata": {
        "colab": {
          "base_uri": "https://localhost:8080/"
        },
        "id": "ZPk_mEz0Ni6a",
        "outputId": "64f5eeaf-be18-4c6a-b9fb-aaabe3da5d69"
      },
      "source": [
        "model.predict_proba(X_test)"
      ],
      "execution_count": null,
      "outputs": [
        {
          "output_type": "execute_result",
          "data": {
            "text/plain": [
              "array([[0.62062571, 0.37937429],\n",
              "       [0.61907309, 0.38092691],\n",
              "       [0.21571094, 0.78428906],\n",
              "       ...,\n",
              "       [0.34860163, 0.65139837],\n",
              "       [0.74661073, 0.25338927],\n",
              "       [0.30566632, 0.69433368]])"
            ]
          },
          "metadata": {
            "tags": []
          },
          "execution_count": 63
        }
      ]
    },
    {
      "cell_type": "code",
      "metadata": {
        "colab": {
          "base_uri": "https://localhost:8080/",
          "height": 317
        },
        "id": "aKOAp15tPm4Q",
        "outputId": "55aff976-23e6-4f8d-c4e2-b773e4a607c0"
      },
      "source": [
        "pd.DataFrame(model.predict_proba(X_test)[:, 1]).hist()"
      ],
      "execution_count": null,
      "outputs": [
        {
          "output_type": "execute_result",
          "data": {
            "text/plain": [
              "array([[<matplotlib.axes._subplots.AxesSubplot object at 0x7f18f728cd90>]],\n",
              "      dtype=object)"
            ]
          },
          "metadata": {
            "tags": []
          },
          "execution_count": 84
        },
        {
          "output_type": "display_data",
          "data": {
            "image/png": "[encoded data removed]",
            "text/plain": [
              "<Figure size 432x288 with 1 Axes>"
            ]
          },
          "metadata": {
            "tags": []
          }
        }
      ]
    },
    {
      "cell_type": "code",
      "metadata": {
        "colab": {
          "base_uri": "https://localhost:8080/",
          "height": 406
        },
        "id": "rIS6zODRNnCN",
        "outputId": "2a724e66-1cba-4d6e-d03d-c07424e17e16"
      },
      "source": [
        "# 6. ROC Curve\n",
        "import matplotlib.pyplot as plt\n",
        "from sklearn.metrics import roc_curve, auc\n",
        "\n",
        "fig, ax = plt.subplots()\n",
        "fig.set_size_inches(13,6)\n",
        "\n",
        "y_pred = model.predict_proba(X_test)\n",
        "fpr, tpr, _ = roc_curve(y_test, y_pred[:,1].ravel())\n",
        "roc_auc = auc(fpr, tpr)\n",
        "print(\"%s Area under the ROC curve : %f\" % (m, roc_auc))\n",
        "plt.plot(fpr,tpr, label=m)\n",
        "\n",
        "plt.xlabel('False-Positive rate')\n",
        "plt.ylabel('True-Positive rate')\n",
        "plt.legend()\n",
        "plt.show()"
      ],
      "execution_count": null,
      "outputs": [
        {
          "output_type": "stream",
          "text": [
            "GradientBoost Area under the ROC curve : 0.749096\n"
          ],
          "name": "stdout"
        },
        {
          "output_type": "display_data",
          "data": {
            "image/png": "[encoded data removed]",
            "text/plain": [
              "<Figure size 936x432 with 1 Axes>"
            ]
          },
          "metadata": {
            "tags": []
          }
        }
      ]
    },
    {
      "cell_type": "code",
      "metadata": {
        "colab": {
          "base_uri": "https://localhost:8080/",
          "height": 669
        },
        "id": "eJOR3UN7O6fu",
        "outputId": "ae01e695-cb05-4d80-ba71-0838e1df9bd9"
      },
      "source": [
        "df_importance = pd.DataFrame(train_1.columns.drop('TARGET') )\n",
        "df_importance['importance'] = model.feature_importances_\n",
        "df_importance.sort_values(by = 'importance', ascending=False).head(20)\n",
        "# gb"
      ],
      "execution_count": null,
      "outputs": [
        {
          "output_type": "execute_result",
          "data": {
            "text/html": [
              "<div>\n",
              "<style scoped>\n",
              "    .dataframe tbody tr th:only-of-type {\n",
              "        vertical-align: middle;\n",
              "    }\n",
              "\n",
              "    .dataframe tbody tr th {\n",
              "        vertical-align: top;\n",
              "    }\n",
              "\n",
              "    .dataframe thead th {\n",
              "        text-align: right;\n",
              "    }\n",
              "</style>\n",
              "<table border=\"1\" class=\"dataframe\">\n",
              "  <thead>\n",
              "    <tr style=\"text-align: right;\">\n",
              "      <th></th>\n",
              "      <th>0</th>\n",
              "      <th>importance</th>\n",
              "    </tr>\n",
              "  </thead>\n",
              "  <tbody>\n",
              "    <tr>\n",
              "      <th>0</th>\n",
              "      <td>EXT_SOURCE_3</td>\n",
              "      <td>436</td>\n",
              "    </tr>\n",
              "    <tr>\n",
              "      <th>11</th>\n",
              "      <td>EXT_SOURCE_2</td>\n",
              "      <td>406</td>\n",
              "    </tr>\n",
              "    <tr>\n",
              "      <th>57</th>\n",
              "      <td>DAYS_BIRTH</td>\n",
              "      <td>379</td>\n",
              "    </tr>\n",
              "    <tr>\n",
              "      <th>37</th>\n",
              "      <td>AMT_CREDIT</td>\n",
              "      <td>348</td>\n",
              "    </tr>\n",
              "    <tr>\n",
              "      <th>13</th>\n",
              "      <td>AMT_ANNUITY</td>\n",
              "      <td>344</td>\n",
              "    </tr>\n",
              "    <tr>\n",
              "      <th>12</th>\n",
              "      <td>AMT_GOODS_PRICE</td>\n",
              "      <td>286</td>\n",
              "    </tr>\n",
              "    <tr>\n",
              "      <th>54</th>\n",
              "      <td>DAYS_ID_PUBLISH</td>\n",
              "      <td>273</td>\n",
              "    </tr>\n",
              "    <tr>\n",
              "      <th>56</th>\n",
              "      <td>DAYS_EMPLOYED</td>\n",
              "      <td>241</td>\n",
              "    </tr>\n",
              "    <tr>\n",
              "      <th>15</th>\n",
              "      <td>DAYS_LAST_PHONE_CHANGE</td>\n",
              "      <td>214</td>\n",
              "    </tr>\n",
              "    <tr>\n",
              "      <th>55</th>\n",
              "      <td>DAYS_REGISTRATION</td>\n",
              "      <td>169</td>\n",
              "    </tr>\n",
              "    <tr>\n",
              "      <th>58</th>\n",
              "      <td>REGION_POPULATION_RELATIVE</td>\n",
              "      <td>165</td>\n",
              "    </tr>\n",
              "    <tr>\n",
              "      <th>59</th>\n",
              "      <td>SK_ID_CURR</td>\n",
              "      <td>154</td>\n",
              "    </tr>\n",
              "    <tr>\n",
              "      <th>38</th>\n",
              "      <td>AMT_INCOME_TOTAL</td>\n",
              "      <td>153</td>\n",
              "    </tr>\n",
              "    <tr>\n",
              "      <th>46</th>\n",
              "      <td>HOUR_APPR_PROCESS_START</td>\n",
              "      <td>106</td>\n",
              "    </tr>\n",
              "    <tr>\n",
              "      <th>94</th>\n",
              "      <td>NAME_EDUCATION_TYPE_Higher education</td>\n",
              "      <td>92</td>\n",
              "    </tr>\n",
              "    <tr>\n",
              "      <th>69</th>\n",
              "      <td>CODE_GENDER_F</td>\n",
              "      <td>84</td>\n",
              "    </tr>\n",
              "    <tr>\n",
              "      <th>71</th>\n",
              "      <td>FLAG_OWN_CAR_N</td>\n",
              "      <td>83</td>\n",
              "    </tr>\n",
              "    <tr>\n",
              "      <th>6</th>\n",
              "      <td>AMT_REQ_CREDIT_BUREAU_YEAR</td>\n",
              "      <td>67</td>\n",
              "    </tr>\n",
              "    <tr>\n",
              "      <th>67</th>\n",
              "      <td>NAME_CONTRACT_TYPE_Cash loans</td>\n",
              "      <td>60</td>\n",
              "    </tr>\n",
              "    <tr>\n",
              "      <th>19</th>\n",
              "      <td>FLAG_DOCUMENT_3</td>\n",
              "      <td>56</td>\n",
              "    </tr>\n",
              "  </tbody>\n",
              "</table>\n",
              "</div>"
            ],
            "text/plain": [
              "                                       0  importance\n",
              "0                           EXT_SOURCE_3         436\n",
              "11                          EXT_SOURCE_2         406\n",
              "57                            DAYS_BIRTH         379\n",
              "37                            AMT_CREDIT         348\n",
              "13                           AMT_ANNUITY         344\n",
              "12                       AMT_GOODS_PRICE         286\n",
              "54                       DAYS_ID_PUBLISH         273\n",
              "56                         DAYS_EMPLOYED         241\n",
              "15                DAYS_LAST_PHONE_CHANGE         214\n",
              "55                     DAYS_REGISTRATION         169\n",
              "58            REGION_POPULATION_RELATIVE         165\n",
              "59                            SK_ID_CURR         154\n",
              "38                      AMT_INCOME_TOTAL         153\n",
              "46               HOUR_APPR_PROCESS_START         106\n",
              "94  NAME_EDUCATION_TYPE_Higher education          92\n",
              "69                         CODE_GENDER_F          84\n",
              "71                        FLAG_OWN_CAR_N          83\n",
              "6             AMT_REQ_CREDIT_BUREAU_YEAR          67\n",
              "67         NAME_CONTRACT_TYPE_Cash loans          60\n",
              "19                       FLAG_DOCUMENT_3          56"
            ]
          },
          "metadata": {
            "tags": []
          },
          "execution_count": 65
        }
      ]
    },
    {
      "cell_type": "code",
      "metadata": {
        "id": "u1jjSc_RNm_J"
      },
      "source": [
        "test_1_pred = model.predict_proba(test_1)"
      ],
      "execution_count": null,
      "outputs": []
    },
    {
      "cell_type": "code",
      "metadata": {
        "colab": {
          "base_uri": "https://localhost:8080/"
        },
        "id": "T2fmXDztNm8q",
        "outputId": "c9cbbcde-a61a-46cf-f417-2c472e0dbfc8"
      },
      "source": [
        "test_1_pred"
      ],
      "execution_count": null,
      "outputs": [
        {
          "output_type": "execute_result",
          "data": {
            "text/plain": [
              "array([[0.65540015, 0.34459985],\n",
              "       [0.31232572, 0.68767428],\n",
              "       [0.85140947, 0.14859053],\n",
              "       ...,\n",
              "       [0.6089377 , 0.3910623 ],\n",
              "       [0.55338763, 0.44661237],\n",
              "       [0.3586585 , 0.6413415 ]])"
            ]
          },
          "metadata": {
            "tags": []
          },
          "execution_count": 78
        }
      ]
    },
    {
      "cell_type": "code",
      "metadata": {
        "colab": {
          "base_uri": "https://localhost:8080/",
          "height": 419
        },
        "id": "MUVh0PU9R1Du",
        "outputId": "ee5021db-7748-4fd1-8006-837292969370"
      },
      "source": [
        "pd.DataFrame(test_1['SK_ID_CURR'])"
      ],
      "execution_count": null,
      "outputs": [
        {
          "output_type": "execute_result",
          "data": {
            "text/html": [
              "<div>\n",
              "<style scoped>\n",
              "    .dataframe tbody tr th:only-of-type {\n",
              "        vertical-align: middle;\n",
              "    }\n",
              "\n",
              "    .dataframe tbody tr th {\n",
              "        vertical-align: top;\n",
              "    }\n",
              "\n",
              "    .dataframe thead th {\n",
              "        text-align: right;\n",
              "    }\n",
              "</style>\n",
              "<table border=\"1\" class=\"dataframe\">\n",
              "  <thead>\n",
              "    <tr style=\"text-align: right;\">\n",
              "      <th></th>\n",
              "      <th>SK_ID_CURR</th>\n",
              "    </tr>\n",
              "  </thead>\n",
              "  <tbody>\n",
              "    <tr>\n",
              "      <th>0</th>\n",
              "      <td>100001</td>\n",
              "    </tr>\n",
              "    <tr>\n",
              "      <th>1</th>\n",
              "      <td>100005</td>\n",
              "    </tr>\n",
              "    <tr>\n",
              "      <th>2</th>\n",
              "      <td>100013</td>\n",
              "    </tr>\n",
              "    <tr>\n",
              "      <th>3</th>\n",
              "      <td>100028</td>\n",
              "    </tr>\n",
              "    <tr>\n",
              "      <th>4</th>\n",
              "      <td>100038</td>\n",
              "    </tr>\n",
              "    <tr>\n",
              "      <th>...</th>\n",
              "      <td>...</td>\n",
              "    </tr>\n",
              "    <tr>\n",
              "      <th>48739</th>\n",
              "      <td>456221</td>\n",
              "    </tr>\n",
              "    <tr>\n",
              "      <th>48740</th>\n",
              "      <td>456222</td>\n",
              "    </tr>\n",
              "    <tr>\n",
              "      <th>48741</th>\n",
              "      <td>456223</td>\n",
              "    </tr>\n",
              "    <tr>\n",
              "      <th>48742</th>\n",
              "      <td>456224</td>\n",
              "    </tr>\n",
              "    <tr>\n",
              "      <th>48743</th>\n",
              "      <td>456250</td>\n",
              "    </tr>\n",
              "  </tbody>\n",
              "</table>\n",
              "<p>48744 rows × 1 columns</p>\n",
              "</div>"
            ],
            "text/plain": [
              "       SK_ID_CURR\n",
              "0          100001\n",
              "1          100005\n",
              "2          100013\n",
              "3          100028\n",
              "4          100038\n",
              "...           ...\n",
              "48739      456221\n",
              "48740      456222\n",
              "48741      456223\n",
              "48742      456224\n",
              "48743      456250\n",
              "\n",
              "[48744 rows x 1 columns]"
            ]
          },
          "metadata": {
            "tags": []
          },
          "execution_count": 81
        }
      ]
    },
    {
      "cell_type": "code",
      "metadata": {
        "colab": {
          "base_uri": "https://localhost:8080/"
        },
        "id": "btK5nftWSOjh",
        "outputId": "dda13832-05f3-4d29-a45f-4eb7e745abe8"
      },
      "source": [
        "model.predict_proba(test_1)"
      ],
      "execution_count": null,
      "outputs": [
        {
          "output_type": "execute_result",
          "data": {
            "text/plain": [
              "array([[0.65540015, 0.34459985],\n",
              "       [0.31232572, 0.68767428],\n",
              "       [0.85140947, 0.14859053],\n",
              "       ...,\n",
              "       [0.6089377 , 0.3910623 ],\n",
              "       [0.55338763, 0.44661237],\n",
              "       [0.3586585 , 0.6413415 ]])"
            ]
          },
          "metadata": {
            "tags": []
          },
          "execution_count": 83
        }
      ]
    },
    {
      "cell_type": "code",
      "metadata": {
        "id": "hu90F_coRtXS"
      },
      "source": [
        "df_proba = pd.DataFrame(test_1['SK_ID_CURR'])\n",
        "df_proba['TARGET'] = model.predict_proba(test_1)[:, 1]"
      ],
      "execution_count": null,
      "outputs": []
    },
    {
      "cell_type": "code",
      "metadata": {
        "colab": {
          "base_uri": "https://localhost:8080/",
          "height": 419
        },
        "id": "gWIrNpX5Rd_s",
        "outputId": "11c8dbe1-747b-46fb-c791-ca2dcb5ff714"
      },
      "source": [
        "df_proba"
      ],
      "execution_count": null,
      "outputs": [
        {
          "output_type": "execute_result",
          "data": {
            "text/html": [
              "<div>\n",
              "<style scoped>\n",
              "    .dataframe tbody tr th:only-of-type {\n",
              "        vertical-align: middle;\n",
              "    }\n",
              "\n",
              "    .dataframe tbody tr th {\n",
              "        vertical-align: top;\n",
              "    }\n",
              "\n",
              "    .dataframe thead th {\n",
              "        text-align: right;\n",
              "    }\n",
              "</style>\n",
              "<table border=\"1\" class=\"dataframe\">\n",
              "  <thead>\n",
              "    <tr style=\"text-align: right;\">\n",
              "      <th></th>\n",
              "      <th>SK_ID_CURR</th>\n",
              "      <th>TARGET</th>\n",
              "    </tr>\n",
              "  </thead>\n",
              "  <tbody>\n",
              "    <tr>\n",
              "      <th>0</th>\n",
              "      <td>100001</td>\n",
              "      <td>0.344600</td>\n",
              "    </tr>\n",
              "    <tr>\n",
              "      <th>1</th>\n",
              "      <td>100005</td>\n",
              "      <td>0.687674</td>\n",
              "    </tr>\n",
              "    <tr>\n",
              "      <th>2</th>\n",
              "      <td>100013</td>\n",
              "      <td>0.148591</td>\n",
              "    </tr>\n",
              "    <tr>\n",
              "      <th>3</th>\n",
              "      <td>100028</td>\n",
              "      <td>0.300090</td>\n",
              "    </tr>\n",
              "    <tr>\n",
              "      <th>4</th>\n",
              "      <td>100038</td>\n",
              "      <td>0.815230</td>\n",
              "    </tr>\n",
              "    <tr>\n",
              "      <th>...</th>\n",
              "      <td>...</td>\n",
              "      <td>...</td>\n",
              "    </tr>\n",
              "    <tr>\n",
              "      <th>48739</th>\n",
              "      <td>456221</td>\n",
              "      <td>0.200258</td>\n",
              "    </tr>\n",
              "    <tr>\n",
              "      <th>48740</th>\n",
              "      <td>456222</td>\n",
              "      <td>0.704762</td>\n",
              "    </tr>\n",
              "    <tr>\n",
              "      <th>48741</th>\n",
              "      <td>456223</td>\n",
              "      <td>0.391062</td>\n",
              "    </tr>\n",
              "    <tr>\n",
              "      <th>48742</th>\n",
              "      <td>456224</td>\n",
              "      <td>0.446612</td>\n",
              "    </tr>\n",
              "    <tr>\n",
              "      <th>48743</th>\n",
              "      <td>456250</td>\n",
              "      <td>0.641342</td>\n",
              "    </tr>\n",
              "  </tbody>\n",
              "</table>\n",
              "<p>48744 rows × 2 columns</p>\n",
              "</div>"
            ],
            "text/plain": [
              "       SK_ID_CURR    TARGET\n",
              "0          100001  0.344600\n",
              "1          100005  0.687674\n",
              "2          100013  0.148591\n",
              "3          100028  0.300090\n",
              "4          100038  0.815230\n",
              "...           ...       ...\n",
              "48739      456221  0.200258\n",
              "48740      456222  0.704762\n",
              "48741      456223  0.391062\n",
              "48742      456224  0.446612\n",
              "48743      456250  0.641342\n",
              "\n",
              "[48744 rows x 2 columns]"
            ]
          },
          "metadata": {
            "tags": []
          },
          "execution_count": 90
        }
      ]
    },
    {
      "cell_type": "code",
      "metadata": {
        "id": "_xlLk4-4E73F"
      },
      "source": [
        "df_proba.to_csv('df_proba_lgb.csv', index = False)\n",
        "# 0.70895"
      ],
      "execution_count": null,
      "outputs": []
    }
  ]
}